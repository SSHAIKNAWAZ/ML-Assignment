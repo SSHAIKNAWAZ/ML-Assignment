{
 "cells": [
  {
   "cell_type": "markdown",
   "id": "99b4ead3",
   "metadata": {},
   "source": [
    "<center><font color= 'Black' style = 'font-family:verdana ; font-size:25px'>Blockhouse Assignment: Machine Learning Engineer Overview</font></center>\n",
    "<hr style=\"color: black; height: 1px;\">\n",
    "<font color= '#067F7D' style = 'font-family:cambria ; font-size:20px'>Introduction </font><br>\n",
    "\n",
    "<font color=\"black\" style=\"font-family:Cambria ;font-size:18px\">Welcome to the Machine Learning Engineer work trial at Blockhouse. This task evaluates your ability to implement and fine-tune transformer-based models for generating trade recommendations. Below is a detailed summary of the steps taken, including data preparation, model implementation, fine-tuning, evaluation metrics, and documentation.</font><br>\n",
    "\n",
    "<font color=\"black\" style=\"font-family:Cambria ;font-size:18px\">The dataset consists of 2357 images of malignant and benign oncological diseases, which were formed from the International Skin Imaging Collaboration (ISIC). All images were sorted according to the classification taken with ISIC, and all subsets were divided into the same number of images, with the exception of melanomas and moles, whose images are slightly dominant.\n",
    "</font><br>\n"
   ]
  },
  {
   "cell_type": "markdown",
   "id": "05ba01ed",
   "metadata": {},
   "source": [
    "<b><font color=black style='font-family:Cambria; font-size:17px'>1.Resources Used:</font></b><br>\n",
    "\n",
    "- <font color=brown style='font-family:Cambria; font-size:15px'>`Transformer Model`: Implemented using TensorFlow.</font>\n",
    "- <font color=brown style='font-family:Cambria; font-size:15px'>`Data Source`: Historical trade data from `trades_EQUITIES.csv`.</font>\n",
    "- <font color=brown style='font-family:Cambria; font-size:15px'>`Yahoo Finance API`: Used to fetch additional market data (e.g., stock prices, volumes).</font>\n",
    "- <font color=brown style='font-family:Cambria; font-size:15px'>`Evaluation Metrics`: Mean Absolute Error (MAE) and Root Mean Squared Error (RMSE).</font>\n",
    "\n",
    "<b><font color=black style='font-family:Cambria; font-size:17px'>2. Task Breakdown</font></b>\n",
    "<br>\n",
    "\n",
    "<b><font color=black style='font-family:Cambria; font-size:17px'>`1.Data Preparation`:</font></b><br>\n",
    "\n",
    "- <font color=brown style='font-family:Cambria; font-size:15px'>`Loading Data`: Loaded trade data from trades_EQUITIES.csv.</font>\n",
    "- <font color=brown style='font-family:Cambria; font-size:15px'>`Data Integration`: Merged trade data with market data fetched from Yahoo Finance API to create a comprehensive dataset.</font>\n",
    "\n",
    "<b><font color=black style='font-family:Cambria; font-size:17px'>`2.Model Implementation` :</font></b><br>\n",
    "\n",
    "- <font color=brown style='font-family:Cambria; font-size:15px'>`Transformer Model`: Implemented using TensorFlow's Keras AP</font>\n",
    "    - <font color=brown style='font-family:Cambria; font-size:15px'>Utilized transformer layers for processing trade and market data</font>\n",
    "    \n",
    "<b><font color=black style='font-family:Cambria; font-size:17px'>`3 Fine-Tuning `:</font></b><br>\n",
    "\n",
    "- <font color=brown style='font-family:Cambria; font-size:15px'>`Hyperparameter Tuning`: Optimized model performance through:</font>\n",
    "\n",
    "    - <font color=brown style='font-family:Cambria; font-size:15px'>Early stopping to prevent overfitting and improve generalization.</font>\n",
    "    - <font color=brown style='font-family:Cambria; font-size:15px'>Learning rate scheduling for more stable convergence and faster training</font>\n",
    "\n",
    "<b><font color=black style='font-family:Cambria; font-size:17px'>`4 Evaluation `:</font></b><br>\n",
    "\n",
    "- <font color=brown style='font-family:Cambria; font-size:15px'>`1. Metrics Use` :</font>\n",
    "\n",
    "    - <font color=brown style='font-family:Cambria; font-size:15px'>`Mean Absolute Error (MAE)`: Measures average absolute difference between predicted and actual values, providing insight into model accuracy.</font>\n",
    "    - <font color=brown style='font-family:Cambria; font-size:15px'>`Root Mean Squared Error (RMSE)`: Measures square root of the average of squared differences between predicted and actual values, highlighting overall prediction error.</font>\n",
    "\n",
    "- <font color=brown style='font-family:Cambria; font-size:15px'>`2 performance Assessment:` :</font>\n",
    "\n",
    "    - <font color=brown style='font-family:Cambria; font-size:15px'>`Achieved MAE: 19.11`:</font>\n",
    "    - <font color=brown style='font-family:Cambria; font-size:15px'>`Achieved RMSE: 22.63`</font>\n",
    "    \n",
    "    \n",
    "<b><font color=black style='font-family:Cambria; font-size:17px'>`5  Documentation`:</font></b><br>\n",
    "\n",
    "- <font color=brown style='font-family:Cambria; font-size:15px'>`1. Implementation Details:`</font>\n",
    "\n",
    "    - <font color=brown style='font-family:Cambria; font-size:15px'>Detailed explanation of transformer architecture used, emphasizing its suitability for financial data processing.</font>\n",
    "    - <font color=brown style='font-family:Cambria; font-size:15px'>Description of data preprocessing steps, including data integration and scaling.</font>\n",
    "\n",
    "\n",
    "\n",
    "- <font color=brown style='font-family:Cambria; font-size:15px'>`2. Fine Tuining Process:`</font>\n",
    "\n",
    "    - <font color=brown style='font-family:Cambria; font-size:15px'>Justification of hyperparameters chosen based on experimentation and validation performance.</font>\n",
    "    - <font color=brown style='font-family:Cambria; font-size:15px'>Discussion on the impact of early stopping and learning rate scheduling in enhancing model stability and efficiency.</font>\n",
    "\n",
    "\n",
    "- <font color=brown style='font-family:Cambria; font-size:15px'>`3. Recommendation Examples :`</font>\n",
    "\n",
    "    - <font color=brown style='font-family:Cambria; font-size:15px'>Provided examples of trade recommendations generated by the model, illustrating how they can inform trading decisions.</font>\n",
    "    - <font color=brown style='font-family:Cambria; font-size:15px'>Demonstrated the practical applicability of the model's outputs in financial markets.</font>\n",
    "\n",
    "<font color= '#067F7D' style = 'font-family:cambria ; font-size:20px'>Conclusion </font><br>\n",
    "\n",
    "<font color=\"black\" style=\"font-family:Cambria ;font-size:16px\">This assignment provided a comprehensive demonstration of implementing transformer models for financial data analysis. It underscored the importance of integrating diverse datasets and optimizing model performance through effective tuning techniques. The evaluation metrics highlighted the model's ability to generate accurate trade recommendations, crucial for decision-making in dynamic financial environments.</font>\n",
    "<br>\n",
    "<font color= '#067F7D' style = 'font-family:cambria ; font-size:20px'>Submission </font><br>\n",
    "\n",
    "<font color=\"black\" style=\"font-family:Cambria ;font-size:16px\">The implemented code, along with this detailed report, is submitted for review. The GitHub repository link containing the code is provided for further examination.\n",
    "\n",
    "This work trial mirrors the challenges and responsibilities of a Machine Learning Engineer at Blockhouse, showcasing technical proficiency, problem-solving skills, and innovative approaches in machine learning application</font><br>\n"
   ]
  },
  {
   "cell_type": "code",
   "execution_count": 1,
   "id": "43a5e63a",
   "metadata": {},
   "outputs": [],
   "source": [
    "# !pip install yfinance"
   ]
  },
  {
   "cell_type": "code",
   "execution_count": 2,
   "id": "d046c2f2",
   "metadata": {},
   "outputs": [],
   "source": [
    "import numpy as np\n",
    "import pandas as pd\n",
    "import matplotlib.pyplot as plt\n",
    "import seaborn as sns\n",
    "import plotly.express as px\n",
    "import yfinance as yf\n",
    "\n",
    "import warnings\n",
    "warnings.filterwarnings('ignore')"
   ]
  },
  {
   "cell_type": "code",
   "execution_count": 3,
   "id": "0251ed59",
   "metadata": {},
   "outputs": [],
   "source": [
    "pd.set_option('display.max_columns', None)\n",
    "pd.set_option('display.width', 1000)"
   ]
  },
  {
   "cell_type": "code",
   "execution_count": 4,
   "id": "3161ca84",
   "metadata": {},
   "outputs": [],
   "source": [
    "df=pd.read_csv('trades_EQUITIES.csv')"
   ]
  },
  {
   "cell_type": "code",
   "execution_count": 5,
   "id": "ba7f40e4",
   "metadata": {},
   "outputs": [
    {
     "data": {
      "text/html": [
       "<div>\n",
       "<style scoped>\n",
       "    .dataframe tbody tr th:only-of-type {\n",
       "        vertical-align: middle;\n",
       "    }\n",
       "\n",
       "    .dataframe tbody tr th {\n",
       "        vertical-align: top;\n",
       "    }\n",
       "\n",
       "    .dataframe thead th {\n",
       "        text-align: right;\n",
       "    }\n",
       "</style>\n",
       "<table border=\"1\" class=\"dataframe\">\n",
       "  <thead>\n",
       "    <tr style=\"text-align: right;\">\n",
       "      <th></th>\n",
       "      <th>Ticker</th>\n",
       "      <th>Stock Name</th>\n",
       "      <th>Trade Date</th>\n",
       "      <th>Trade Time</th>\n",
       "      <th>Trade Size</th>\n",
       "      <th>Execution Time (ms)</th>\n",
       "      <th>Trade Direction</th>\n",
       "      <th>Trade Price</th>\n",
       "      <th>Exchange</th>\n",
       "      <th>Order type</th>\n",
       "    </tr>\n",
       "  </thead>\n",
       "  <tbody>\n",
       "    <tr>\n",
       "      <th>9344</th>\n",
       "      <td>AAPL</td>\n",
       "      <td>Apple Inc.</td>\n",
       "      <td>01-12-2024</td>\n",
       "      <td>10:48:54</td>\n",
       "      <td>171</td>\n",
       "      <td>774</td>\n",
       "      <td>SELL</td>\n",
       "      <td>$169.61</td>\n",
       "      <td>NASDAQ</td>\n",
       "      <td>MKT</td>\n",
       "    </tr>\n",
       "    <tr>\n",
       "      <th>4902</th>\n",
       "      <td>CAT</td>\n",
       "      <td>Caterpillar Inc.</td>\n",
       "      <td>12/19/2023</td>\n",
       "      <td>14:55:23</td>\n",
       "      <td>226</td>\n",
       "      <td>755</td>\n",
       "      <td>BUY</td>\n",
       "      <td>$173.33</td>\n",
       "      <td>NYSE</td>\n",
       "      <td>MKT</td>\n",
       "    </tr>\n",
       "    <tr>\n",
       "      <th>5199</th>\n",
       "      <td>AAPL</td>\n",
       "      <td>Apple Inc.</td>\n",
       "      <td>1/15/2024</td>\n",
       "      <td>11:18:53</td>\n",
       "      <td>663</td>\n",
       "      <td>479</td>\n",
       "      <td>SELL</td>\n",
       "      <td>$154.43</td>\n",
       "      <td>NASDAQ</td>\n",
       "      <td>MKT</td>\n",
       "    </tr>\n",
       "    <tr>\n",
       "      <th>8276</th>\n",
       "      <td>AAPL</td>\n",
       "      <td>Apple Inc.</td>\n",
       "      <td>12-12-2023</td>\n",
       "      <td>10:47:17</td>\n",
       "      <td>40</td>\n",
       "      <td>157</td>\n",
       "      <td>BUY</td>\n",
       "      <td>$194.38</td>\n",
       "      <td>NASDAQ</td>\n",
       "      <td>MKT</td>\n",
       "    </tr>\n",
       "    <tr>\n",
       "      <th>6053</th>\n",
       "      <td>CAT</td>\n",
       "      <td>Caterpillar Inc.</td>\n",
       "      <td>01-08-2024</td>\n",
       "      <td>10:01:59</td>\n",
       "      <td>205</td>\n",
       "      <td>857</td>\n",
       "      <td>SELL</td>\n",
       "      <td>$237.22</td>\n",
       "      <td>NYSE</td>\n",
       "      <td>MKT</td>\n",
       "    </tr>\n",
       "  </tbody>\n",
       "</table>\n",
       "</div>"
      ],
      "text/plain": [
       "     Ticker        Stock Name  Trade Date Trade Time  Trade Size  Execution Time (ms) Trade Direction  Trade Price  Exchange Order type\n",
       "9344   AAPL        Apple Inc.  01-12-2024   10:48:54         171                  774            SELL      $169.61    NASDAQ        MKT\n",
       "4902    CAT  Caterpillar Inc.  12/19/2023   14:55:23         226                  755             BUY      $173.33      NYSE        MKT\n",
       "5199   AAPL        Apple Inc.   1/15/2024   11:18:53         663                  479            SELL      $154.43    NASDAQ        MKT\n",
       "8276   AAPL        Apple Inc.  12-12-2023   10:47:17          40                  157             BUY      $194.38    NASDAQ        MKT\n",
       "6053    CAT  Caterpillar Inc.  01-08-2024   10:01:59         205                  857            SELL      $237.22      NYSE        MKT"
      ]
     },
     "execution_count": 5,
     "metadata": {},
     "output_type": "execute_result"
    }
   ],
   "source": [
    "df.sample(5)"
   ]
  },
  {
   "cell_type": "markdown",
   "id": "f4e21b7b",
   "metadata": {},
   "source": [
    "MKT means the NYSE MKT Equities Exchange. MKT means the market conditions, including external amenities and current economic conditions."
   ]
  },
  {
   "cell_type": "markdown",
   "id": "c819a4f0",
   "metadata": {},
   "source": [
    "### These are some insights which says about the company"
   ]
  },
  {
   "cell_type": "code",
   "execution_count": 6,
   "id": "17cd5c92",
   "metadata": {},
   "outputs": [],
   "source": [
    "jpm=yf.Ticker('JPM')"
   ]
  },
  {
   "cell_type": "code",
   "execution_count": 7,
   "id": "376aa842",
   "metadata": {
    "scrolled": false
   },
   "outputs": [],
   "source": [
    "jpm_stock_info=jpm.info"
   ]
  },
  {
   "cell_type": "code",
   "execution_count": 8,
   "id": "9444e628",
   "metadata": {
    "scrolled": false
   },
   "outputs": [
    {
     "name": "stdout",
     "output_type": "stream",
     "text": [
      "address1 : 383 Madison Avenue\n",
      "city : New York\n",
      "state : NY\n",
      "zip : 10179\n",
      "country : United States\n",
      "phone : 212 270 6000\n",
      "website : https://www.jpmorganchase.com\n",
      "industry : Banks - Diversified\n",
      "industryKey : banks-diversified\n",
      "industryDisp : Banks - Diversified\n",
      "sector : Financial Services\n",
      "sectorKey : financial-services\n",
      "sectorDisp : Financial Services\n",
      "longBusinessSummary : JPMorgan Chase & Co. operates as a financial services company worldwide. It operates through four segments: Consumer & Community Banking (CCB), Corporate & Investment Bank (CIB), Commercial Banking (CB), and Asset & Wealth Management (AWM). The CCB segment offers deposit, investment and lending products, cash management, and payments and services; mortgage origination and servicing activities; residential mortgages and home equity loans; and credit cards, auto loans, leases, and travel services to consumers and small businesses through bank branches, ATMs, and digital and telephone banking. The CIB segment provides investment banking products and services, including corporate strategy and structure advisory, and equity and debt market capital-raising services, as well as loan origination and syndication; payments; and cash and derivative instruments, risk management solutions, prime brokerage, and research. This segment also offers securities services, including custody, fund accounting and administration, and securities lending products for asset managers, insurance companies, and public and private investment funds. The CB segment provides financial solutions, including lending, payments, investment banking, and asset management to small and midsized companies, local governments, nonprofit clients, and large corporations, as well as investors, developers, and owners of multifamily, office, retail, industrial, and affordable housing properties. The AWM segment offers multi-asset investment management solutions in equities, fixed income, alternatives, and money market funds to institutional clients and retail investors; and retirement products and services, brokerage, custody, estate planning, lending, deposits, and investment management products to high net worth clients. JPMorgan Chase & Co. was founded in 1799 and is headquartered in New York, New York.\n",
      "fullTimeEmployees : 311921\n",
      "companyOfficers : [{'maxAge': 1, 'name': 'Mr. James  Dimon', 'age': 67, 'title': 'Chairman & CEO', 'yearBorn': 1956, 'fiscalYear': 2023, 'totalPay': 7053595, 'exercisedValue': 0, 'unexercisedValue': 0}, {'maxAge': 1, 'name': 'Mr. Daniel Eduardo Pinto', 'age': 60, 'title': 'President & COO', 'yearBorn': 1963, 'fiscalYear': 2023, 'totalPay': 6597037, 'exercisedValue': 0, 'unexercisedValue': 0}, {'maxAge': 1, 'name': 'Mr. Jeremy  Barnum', 'age': 50, 'title': 'Executive VP & CFO', 'yearBorn': 1973, 'fiscalYear': 2023, 'totalPay': 6455000, 'exercisedValue': 0, 'unexercisedValue': 0}, {'maxAge': 1, 'name': 'Ms. Mary Callahan Erdoes', 'age': 56, 'title': 'Chief Executive Officer of Asset & Wealth Management and Executive VP', 'yearBorn': 1967, 'fiscalYear': 2023, 'totalPay': 11255000, 'exercisedValue': 0, 'unexercisedValue': 0}, {'maxAge': 1, 'name': 'Ms. Marianne  Lake', 'age': 53, 'title': 'Chief Executive Officer of Consumer & Community Banking', 'yearBorn': 1970, 'fiscalYear': 2023, 'totalPay': 7925015, 'exercisedValue': 0, 'unexercisedValue': 0}, {'maxAge': 1, 'name': 'Ms. Jennifer A. Piepszak', 'age': 52, 'title': 'Co-Chief Executive Officer of Commercial & Investment Bank', 'yearBorn': 1971, 'fiscalYear': 2023, 'totalPay': 7855000, 'exercisedValue': 0, 'unexercisedValue': 0}, {'maxAge': 1, 'name': 'Ms. Elena A. Korablina', 'age': 49, 'title': 'MD, Firmwide Controller & Principal Accounting Officer', 'yearBorn': 1974, 'fiscalYear': 2023, 'exercisedValue': 0, 'unexercisedValue': 0}, {'maxAge': 1, 'name': 'Mr. Andrew J. Lang', 'title': 'Chief Technology Officer', 'fiscalYear': 2023, 'exercisedValue': 0, 'unexercisedValue': 0}, {'maxAge': 1, 'name': 'Ms. Lori Ann Beer', 'age': 55, 'title': 'Global Chief Information Officer', 'yearBorn': 1968, 'fiscalYear': 2023, 'exercisedValue': 0, 'unexercisedValue': 0}, {'maxAge': 1, 'name': 'Mr. Mikael  Grubb', 'title': 'Head of Investor Relations', 'fiscalYear': 2023, 'exercisedValue': 0, 'unexercisedValue': 0}]\n",
      "auditRisk : 8\n",
      "boardRisk : 6\n",
      "compensationRisk : 7\n",
      "shareHolderRightsRisk : 3\n",
      "overallRisk : 5\n",
      "governanceEpochDate : 1717200000\n",
      "compensationAsOfEpochDate : 1703980800\n",
      "irWebsite : http://investor.shareholder.com/jpmorganchase/\n",
      "maxAge : 86400\n",
      "priceHint : 2\n",
      "previousClose : 198.67\n",
      "open : 196.71\n",
      "dayLow : 194.22\n",
      "dayHigh : 197.17\n",
      "regularMarketPreviousClose : 198.67\n",
      "regularMarketOpen : 196.71\n",
      "regularMarketDayLow : 194.22\n",
      "regularMarketDayHigh : 197.17\n",
      "dividendRate : 4.6\n",
      "dividendYield : 0.0234\n",
      "exDividendDate : 1720137600\n",
      "payoutRatio : 0.2565\n",
      "fiveYearAvgDividendYield : 2.82\n",
      "beta : 1.11\n",
      "trailingPE : 11.846711\n",
      "forwardPE : 11.846711\n",
      "volume : 20738371\n",
      "regularMarketVolume : 20738371\n",
      "averageVolume : 9351011\n",
      "averageVolume10days : 9793570\n",
      "averageDailyVolume10Day : 9793570\n",
      "bid : 196.42\n",
      "ask : 196.43\n",
      "bidSize : 900\n",
      "askSize : 800\n",
      "marketCap : 563708821504\n",
      "fiftyTwoWeekLow : 135.19\n",
      "fiftyTwoWeekHigh : 205.88\n",
      "priceToSalesTrailing12Months : 3.758034\n",
      "fiftyDayAverage : 194.8092\n",
      "twoHundredDayAverage : 172.55945\n",
      "trailingAnnualDividendRate : 4.25\n",
      "trailingAnnualDividendYield : 0.021392258\n",
      "currency : USD\n",
      "enterpriseValue : -192424591360\n",
      "profitMargins : 0.33566\n",
      "floatShares : 2856103439\n",
      "sharesOutstanding : 2871670016\n",
      "sharesShort : 20211078\n",
      "sharesShortPriorMonth : 19887829\n",
      "sharesShortPreviousMonthDate : 1713139200\n",
      "dateShortInterest : 1715731200\n",
      "sharesPercentSharesOut : 0.0069999998\n",
      "heldPercentInsiders : 0.00453\n",
      "heldPercentInstitutions : 0.73567003\n",
      "shortRatio : 2.24\n",
      "shortPercentOfFloat : 0.0070999996\n",
      "impliedSharesOutstanding : 2871670016\n",
      "bookValue : 106.815\n",
      "priceToBook : 1.8377569\n",
      "lastFiscalYearEnd : 1703980800\n",
      "nextFiscalYearEnd : 1735603200\n",
      "mostRecentQuarter : 1711843200\n",
      "earningsQuarterlyGrowth : 0.063\n",
      "netIncomeToCommon : 48509001728\n",
      "trailingEps : 16.57\n",
      "forwardEps : 16.57\n",
      "pegRatio : 9.92\n",
      "lastSplitFactor : 3:2\n",
      "lastSplitDate : 960768000\n",
      "enterpriseToRevenue : -1.283\n",
      "52WeekChange : 0.41030252\n",
      "SandP52WeekChange : 0.26238096\n",
      "lastDividendValue : 1.15\n",
      "lastDividendDate : 1712188800\n",
      "exchange : NYQ\n",
      "quoteType : EQUITY\n",
      "symbol : JPM\n",
      "underlyingSymbol : JPM\n",
      "shortName : JP Morgan Chase & Co.\n",
      "longName : JPMorgan Chase & Co.\n",
      "firstTradeDateEpochUtc : 322151400\n",
      "timeZoneFullName : America/New_York\n",
      "timeZoneShortName : EDT\n",
      "uuid : bc753df4-b894-3e19-9c58-995ef66d8e67\n",
      "messageBoardId : finmb_658776\n",
      "gmtOffSetMilliseconds : -14400000\n",
      "currentPrice : 196.3\n",
      "targetHighPrice : 230.0\n",
      "targetLowPrice : 157.7\n",
      "targetMeanPrice : 208.02\n",
      "targetMedianPrice : 213.5\n",
      "recommendationMean : 2.0\n",
      "recommendationKey : buy\n",
      "numberOfAnalystOpinions : 26\n",
      "totalCash : 1626683998208\n",
      "totalCashPerShare : 566.46\n",
      "totalDebt : 840650981376\n",
      "totalRevenue : 150000992256\n",
      "revenuePerShare : 51.308\n",
      "returnOnAssets : 0.01285\n",
      "returnOnEquity : 0.15741\n",
      "operatingCashflow : -29942999040\n",
      "earningsGrowth : 0.083\n",
      "revenueGrowth : 0.111\n",
      "operatingMargins : 0.45218\n",
      "financialCurrency : USD\n",
      "trailingPegRatio : None\n"
     ]
    }
   ],
   "source": [
    "for i,j in jpm_stock_info.items():\n",
    "    print(i,':',j)"
   ]
  },
  {
   "cell_type": "code",
   "execution_count": 9,
   "id": "a2d29772",
   "metadata": {},
   "outputs": [
    {
     "data": {
      "text/plain": [
       "Date\n",
       "1984-03-09 00:00:00-05:00    0.196667\n",
       "1984-06-11 00:00:00-04:00    0.196667\n",
       "1984-09-10 00:00:00-04:00    0.196667\n",
       "1984-12-10 00:00:00-05:00    0.196667\n",
       "1985-03-11 00:00:00-05:00    0.206667\n",
       "                               ...   \n",
       "2023-04-05 00:00:00-04:00    1.000000\n",
       "2023-07-05 00:00:00-04:00    1.000000\n",
       "2023-10-05 00:00:00-04:00    1.050000\n",
       "2024-01-04 00:00:00-05:00    1.050000\n",
       "2024-04-04 00:00:00-04:00    1.150000\n",
       "Name: Dividends, Length: 162, dtype: float64"
      ]
     },
     "execution_count": 9,
     "metadata": {},
     "output_type": "execute_result"
    }
   ],
   "source": [
    "# checking dividends\n",
    "jpm.dividends"
   ]
  },
  {
   "cell_type": "code",
   "execution_count": 10,
   "id": "0d3c1754",
   "metadata": {},
   "outputs": [
    {
     "data": {
      "text/html": [
       "<div>\n",
       "<style scoped>\n",
       "    .dataframe tbody tr th:only-of-type {\n",
       "        vertical-align: middle;\n",
       "    }\n",
       "\n",
       "    .dataframe tbody tr th {\n",
       "        vertical-align: top;\n",
       "    }\n",
       "\n",
       "    .dataframe thead th {\n",
       "        text-align: right;\n",
       "    }\n",
       "</style>\n",
       "<table border=\"1\" class=\"dataframe\">\n",
       "  <thead>\n",
       "    <tr style=\"text-align: right;\">\n",
       "      <th>Breakdown</th>\n",
       "      <th>Value</th>\n",
       "    </tr>\n",
       "  </thead>\n",
       "  <tbody>\n",
       "    <tr>\n",
       "      <th>insidersPercentHeld</th>\n",
       "      <td>0.00453</td>\n",
       "    </tr>\n",
       "    <tr>\n",
       "      <th>institutionsPercentHeld</th>\n",
       "      <td>0.73567</td>\n",
       "    </tr>\n",
       "    <tr>\n",
       "      <th>institutionsFloatPercentHeld</th>\n",
       "      <td>0.73902</td>\n",
       "    </tr>\n",
       "    <tr>\n",
       "      <th>institutionsCount</th>\n",
       "      <td>5003.00000</td>\n",
       "    </tr>\n",
       "  </tbody>\n",
       "</table>\n",
       "</div>"
      ],
      "text/plain": [
       "Breakdown                          Value\n",
       "insidersPercentHeld              0.00453\n",
       "institutionsPercentHeld          0.73567\n",
       "institutionsFloatPercentHeld     0.73902\n",
       "institutionsCount             5003.00000"
      ]
     },
     "execution_count": 10,
     "metadata": {},
     "output_type": "execute_result"
    }
   ],
   "source": [
    "jpm.major_holders"
   ]
  },
  {
   "cell_type": "code",
   "execution_count": 11,
   "id": "a266269f",
   "metadata": {},
   "outputs": [],
   "source": [
    "df_jpm_institute=jpm.institutional_holders"
   ]
  },
  {
   "cell_type": "code",
   "execution_count": 12,
   "id": "5de8def0",
   "metadata": {},
   "outputs": [
    {
     "data": {
      "text/html": [
       "<div>\n",
       "<style scoped>\n",
       "    .dataframe tbody tr th:only-of-type {\n",
       "        vertical-align: middle;\n",
       "    }\n",
       "\n",
       "    .dataframe tbody tr th {\n",
       "        vertical-align: top;\n",
       "    }\n",
       "\n",
       "    .dataframe thead th {\n",
       "        text-align: right;\n",
       "    }\n",
       "</style>\n",
       "<table border=\"1\" class=\"dataframe\">\n",
       "  <thead>\n",
       "    <tr style=\"text-align: right;\">\n",
       "      <th></th>\n",
       "      <th>period</th>\n",
       "      <th>strongBuy</th>\n",
       "      <th>buy</th>\n",
       "      <th>hold</th>\n",
       "      <th>sell</th>\n",
       "      <th>strongSell</th>\n",
       "    </tr>\n",
       "  </thead>\n",
       "  <tbody>\n",
       "    <tr>\n",
       "      <th>0</th>\n",
       "      <td>0m</td>\n",
       "      <td>4</td>\n",
       "      <td>9</td>\n",
       "      <td>13</td>\n",
       "      <td>1</td>\n",
       "      <td>1</td>\n",
       "    </tr>\n",
       "    <tr>\n",
       "      <th>1</th>\n",
       "      <td>-1m</td>\n",
       "      <td>7</td>\n",
       "      <td>12</td>\n",
       "      <td>8</td>\n",
       "      <td>0</td>\n",
       "      <td>0</td>\n",
       "    </tr>\n",
       "    <tr>\n",
       "      <th>2</th>\n",
       "      <td>-2m</td>\n",
       "      <td>7</td>\n",
       "      <td>13</td>\n",
       "      <td>7</td>\n",
       "      <td>0</td>\n",
       "      <td>0</td>\n",
       "    </tr>\n",
       "    <tr>\n",
       "      <th>3</th>\n",
       "      <td>-3m</td>\n",
       "      <td>5</td>\n",
       "      <td>13</td>\n",
       "      <td>8</td>\n",
       "      <td>3</td>\n",
       "      <td>0</td>\n",
       "    </tr>\n",
       "  </tbody>\n",
       "</table>\n",
       "</div>"
      ],
      "text/plain": [
       "  period  strongBuy  buy  hold  sell  strongSell\n",
       "0     0m          4    9    13     1           1\n",
       "1    -1m          7   12     8     0           0\n",
       "2    -2m          7   13     7     0           0\n",
       "3    -3m          5   13     8     3           0"
      ]
     },
     "execution_count": 12,
     "metadata": {},
     "output_type": "execute_result"
    }
   ],
   "source": [
    "jpm.recommendations_summary"
   ]
  },
  {
   "cell_type": "code",
   "execution_count": 13,
   "id": "48e79c58",
   "metadata": {},
   "outputs": [
    {
     "data": {
      "text/html": [
       "<div>\n",
       "<style scoped>\n",
       "    .dataframe tbody tr th:only-of-type {\n",
       "        vertical-align: middle;\n",
       "    }\n",
       "\n",
       "    .dataframe tbody tr th {\n",
       "        vertical-align: top;\n",
       "    }\n",
       "\n",
       "    .dataframe thead th {\n",
       "        text-align: right;\n",
       "    }\n",
       "</style>\n",
       "<table border=\"1\" class=\"dataframe\">\n",
       "  <thead>\n",
       "    <tr style=\"text-align: right;\">\n",
       "      <th></th>\n",
       "      <th>Open</th>\n",
       "      <th>High</th>\n",
       "      <th>Low</th>\n",
       "      <th>Close</th>\n",
       "      <th>Volume</th>\n",
       "      <th>Dividends</th>\n",
       "      <th>Stock Splits</th>\n",
       "    </tr>\n",
       "    <tr>\n",
       "      <th>Date</th>\n",
       "      <th></th>\n",
       "      <th></th>\n",
       "      <th></th>\n",
       "      <th></th>\n",
       "      <th></th>\n",
       "      <th></th>\n",
       "      <th></th>\n",
       "    </tr>\n",
       "  </thead>\n",
       "  <tbody>\n",
       "    <tr>\n",
       "      <th>1980-03-17 00:00:00-05:00</th>\n",
       "      <td>0.000000</td>\n",
       "      <td>1.097239</td>\n",
       "      <td>1.073472</td>\n",
       "      <td>1.077433</td>\n",
       "      <td>62775</td>\n",
       "      <td>0.0</td>\n",
       "      <td>0.0</td>\n",
       "    </tr>\n",
       "    <tr>\n",
       "      <th>1980-03-18 00:00:00-05:00</th>\n",
       "      <td>0.000000</td>\n",
       "      <td>1.093279</td>\n",
       "      <td>1.077434</td>\n",
       "      <td>1.085356</td>\n",
       "      <td>64125</td>\n",
       "      <td>0.0</td>\n",
       "      <td>0.0</td>\n",
       "    </tr>\n",
       "    <tr>\n",
       "      <th>1980-03-19 00:00:00-05:00</th>\n",
       "      <td>0.000000</td>\n",
       "      <td>1.105162</td>\n",
       "      <td>1.093278</td>\n",
       "      <td>1.101201</td>\n",
       "      <td>40500</td>\n",
       "      <td>0.0</td>\n",
       "      <td>0.0</td>\n",
       "    </tr>\n",
       "    <tr>\n",
       "      <th>1980-03-20 00:00:00-05:00</th>\n",
       "      <td>0.000000</td>\n",
       "      <td>1.101201</td>\n",
       "      <td>1.089317</td>\n",
       "      <td>1.093279</td>\n",
       "      <td>18900</td>\n",
       "      <td>0.0</td>\n",
       "      <td>0.0</td>\n",
       "    </tr>\n",
       "    <tr>\n",
       "      <th>1980-03-21 00:00:00-05:00</th>\n",
       "      <td>0.000000</td>\n",
       "      <td>1.117046</td>\n",
       "      <td>1.093279</td>\n",
       "      <td>1.117046</td>\n",
       "      <td>97200</td>\n",
       "      <td>0.0</td>\n",
       "      <td>0.0</td>\n",
       "    </tr>\n",
       "    <tr>\n",
       "      <th>...</th>\n",
       "      <td>...</td>\n",
       "      <td>...</td>\n",
       "      <td>...</td>\n",
       "      <td>...</td>\n",
       "      <td>...</td>\n",
       "      <td>...</td>\n",
       "      <td>...</td>\n",
       "    </tr>\n",
       "    <tr>\n",
       "      <th>2024-06-14 00:00:00-04:00</th>\n",
       "      <td>191.449997</td>\n",
       "      <td>194.860001</td>\n",
       "      <td>191.419998</td>\n",
       "      <td>193.779999</td>\n",
       "      <td>6874000</td>\n",
       "      <td>0.0</td>\n",
       "      <td>0.0</td>\n",
       "    </tr>\n",
       "    <tr>\n",
       "      <th>2024-06-17 00:00:00-04:00</th>\n",
       "      <td>193.479996</td>\n",
       "      <td>195.580002</td>\n",
       "      <td>192.639999</td>\n",
       "      <td>194.979996</td>\n",
       "      <td>8725400</td>\n",
       "      <td>0.0</td>\n",
       "      <td>0.0</td>\n",
       "    </tr>\n",
       "    <tr>\n",
       "      <th>2024-06-18 00:00:00-04:00</th>\n",
       "      <td>194.600006</td>\n",
       "      <td>197.960007</td>\n",
       "      <td>194.130005</td>\n",
       "      <td>197.000000</td>\n",
       "      <td>9023000</td>\n",
       "      <td>0.0</td>\n",
       "      <td>0.0</td>\n",
       "    </tr>\n",
       "    <tr>\n",
       "      <th>2024-06-20 00:00:00-04:00</th>\n",
       "      <td>196.389999</td>\n",
       "      <td>199.449997</td>\n",
       "      <td>196.110001</td>\n",
       "      <td>198.669998</td>\n",
       "      <td>8731100</td>\n",
       "      <td>0.0</td>\n",
       "      <td>0.0</td>\n",
       "    </tr>\n",
       "    <tr>\n",
       "      <th>2024-06-21 00:00:00-04:00</th>\n",
       "      <td>196.710007</td>\n",
       "      <td>197.169998</td>\n",
       "      <td>194.220001</td>\n",
       "      <td>196.300003</td>\n",
       "      <td>20972100</td>\n",
       "      <td>0.0</td>\n",
       "      <td>0.0</td>\n",
       "    </tr>\n",
       "  </tbody>\n",
       "</table>\n",
       "<p>11160 rows × 7 columns</p>\n",
       "</div>"
      ],
      "text/plain": [
       "                                 Open        High         Low       Close    Volume  Dividends  Stock Splits\n",
       "Date                                                                                                        \n",
       "1980-03-17 00:00:00-05:00    0.000000    1.097239    1.073472    1.077433     62775        0.0           0.0\n",
       "1980-03-18 00:00:00-05:00    0.000000    1.093279    1.077434    1.085356     64125        0.0           0.0\n",
       "1980-03-19 00:00:00-05:00    0.000000    1.105162    1.093278    1.101201     40500        0.0           0.0\n",
       "1980-03-20 00:00:00-05:00    0.000000    1.101201    1.089317    1.093279     18900        0.0           0.0\n",
       "1980-03-21 00:00:00-05:00    0.000000    1.117046    1.093279    1.117046     97200        0.0           0.0\n",
       "...                               ...         ...         ...         ...       ...        ...           ...\n",
       "2024-06-14 00:00:00-04:00  191.449997  194.860001  191.419998  193.779999   6874000        0.0           0.0\n",
       "2024-06-17 00:00:00-04:00  193.479996  195.580002  192.639999  194.979996   8725400        0.0           0.0\n",
       "2024-06-18 00:00:00-04:00  194.600006  197.960007  194.130005  197.000000   9023000        0.0           0.0\n",
       "2024-06-20 00:00:00-04:00  196.389999  199.449997  196.110001  198.669998   8731100        0.0           0.0\n",
       "2024-06-21 00:00:00-04:00  196.710007  197.169998  194.220001  196.300003  20972100        0.0           0.0\n",
       "\n",
       "[11160 rows x 7 columns]"
      ]
     },
     "execution_count": 13,
     "metadata": {},
     "output_type": "execute_result"
    }
   ],
   "source": [
    "jpm.history(period='max')"
   ]
  },
  {
   "cell_type": "code",
   "execution_count": 14,
   "id": "865275a5",
   "metadata": {},
   "outputs": [],
   "source": [
    "df_jpm=jpm.history(period='max').reset_index()"
   ]
  },
  {
   "cell_type": "code",
   "execution_count": 15,
   "id": "deeac1ce",
   "metadata": {},
   "outputs": [],
   "source": [
    "df_jpm['year']=df_jpm['Date'].dt.year"
   ]
  },
  {
   "cell_type": "code",
   "execution_count": 16,
   "id": "5716ae58",
   "metadata": {},
   "outputs": [
    {
     "data": {
      "text/html": [
       "<div>\n",
       "<style scoped>\n",
       "    .dataframe tbody tr th:only-of-type {\n",
       "        vertical-align: middle;\n",
       "    }\n",
       "\n",
       "    .dataframe tbody tr th {\n",
       "        vertical-align: top;\n",
       "    }\n",
       "\n",
       "    .dataframe thead th {\n",
       "        text-align: right;\n",
       "    }\n",
       "</style>\n",
       "<table border=\"1\" class=\"dataframe\">\n",
       "  <thead>\n",
       "    <tr style=\"text-align: right;\">\n",
       "      <th></th>\n",
       "      <th>Date</th>\n",
       "      <th>Open</th>\n",
       "      <th>High</th>\n",
       "      <th>Low</th>\n",
       "      <th>Close</th>\n",
       "      <th>Volume</th>\n",
       "      <th>Dividends</th>\n",
       "      <th>Stock Splits</th>\n",
       "      <th>year</th>\n",
       "    </tr>\n",
       "  </thead>\n",
       "  <tbody>\n",
       "    <tr>\n",
       "      <th>0</th>\n",
       "      <td>1980-03-17 00:00:00-05:00</td>\n",
       "      <td>0.0</td>\n",
       "      <td>1.097240</td>\n",
       "      <td>1.073473</td>\n",
       "      <td>1.077434</td>\n",
       "      <td>62775</td>\n",
       "      <td>0.0</td>\n",
       "      <td>0.0</td>\n",
       "      <td>1980</td>\n",
       "    </tr>\n",
       "    <tr>\n",
       "      <th>1</th>\n",
       "      <td>1980-03-18 00:00:00-05:00</td>\n",
       "      <td>0.0</td>\n",
       "      <td>1.093279</td>\n",
       "      <td>1.077434</td>\n",
       "      <td>1.085356</td>\n",
       "      <td>64125</td>\n",
       "      <td>0.0</td>\n",
       "      <td>0.0</td>\n",
       "      <td>1980</td>\n",
       "    </tr>\n",
       "    <tr>\n",
       "      <th>2</th>\n",
       "      <td>1980-03-19 00:00:00-05:00</td>\n",
       "      <td>0.0</td>\n",
       "      <td>1.105161</td>\n",
       "      <td>1.093278</td>\n",
       "      <td>1.101200</td>\n",
       "      <td>40500</td>\n",
       "      <td>0.0</td>\n",
       "      <td>0.0</td>\n",
       "      <td>1980</td>\n",
       "    </tr>\n",
       "  </tbody>\n",
       "</table>\n",
       "</div>"
      ],
      "text/plain": [
       "                       Date  Open      High       Low     Close  Volume  Dividends  Stock Splits  year\n",
       "0 1980-03-17 00:00:00-05:00   0.0  1.097240  1.073473  1.077434   62775        0.0           0.0  1980\n",
       "1 1980-03-18 00:00:00-05:00   0.0  1.093279  1.077434  1.085356   64125        0.0           0.0  1980\n",
       "2 1980-03-19 00:00:00-05:00   0.0  1.105161  1.093278  1.101200   40500        0.0           0.0  1980"
      ]
     },
     "execution_count": 16,
     "metadata": {},
     "output_type": "execute_result"
    }
   ],
   "source": [
    "df_jpm.head(3)"
   ]
  },
  {
   "cell_type": "code",
   "execution_count": 17,
   "id": "6ea6731a",
   "metadata": {
    "scrolled": false
   },
   "outputs": [
    {
     "data": {
      "image/png": "[encoded data removed]",
      "text/plain": [
       "<Figure size 3000x1000 with 1 Axes>"
      ]
     },
     "metadata": {},
     "output_type": "display_data"
    }
   ],
   "source": [
    "plt.figure(figsize=(30,10))\n",
    "\n",
    "\n",
    "sns.barplot(data=df_jpm,x=df_jpm['year'],y=df_jpm['Open'])\n",
    "\n",
    "\n",
    "plt.show()"
   ]
  },
  {
   "cell_type": "code",
   "execution_count": 18,
   "id": "98cb7166",
   "metadata": {},
   "outputs": [
    {
     "data": {
      "image/png": "[encoded data removed]",
      "text/plain": [
       "<Figure size 3000x1000 with 1 Axes>"
      ]
     },
     "metadata": {},
     "output_type": "display_data"
    }
   ],
   "source": [
    "plt.figure(figsize=(30,10))\n",
    "\n",
    "sns.barplot(data=df_jpm,x=df_jpm['year'],y=df_jpm['Dividends'])\n",
    "plt.show()"
   ]
  },
  {
   "cell_type": "code",
   "execution_count": 19,
   "id": "b5bfb475",
   "metadata": {},
   "outputs": [
    {
     "data": {
      "image/png": "[encoded data removed]",
      "text/plain": [
       "<Figure size 3000x1000 with 1 Axes>"
      ]
     },
     "metadata": {},
     "output_type": "display_data"
    }
   ],
   "source": [
    "plt.figure(figsize=(30,10))\n",
    "\n",
    "sns.barplot(data=df_jpm,x=df_jpm['year'],y=df_jpm['Volume'])\n",
    "plt.show()"
   ]
  },
  {
   "cell_type": "code",
   "execution_count": 20,
   "id": "63021bd3",
   "metadata": {},
   "outputs": [],
   "source": [
    "df_jpm_institute=df_jpm_institute.sort_values(by='Shares')"
   ]
  },
  {
   "cell_type": "code",
   "execution_count": 21,
   "id": "3061371a",
   "metadata": {},
   "outputs": [
    {
     "data": {
      "image/png": "[encoded data removed]",
      "text/plain": [
       "<Figure size 2500x800 with 1 Axes>"
      ]
     },
     "metadata": {},
     "output_type": "display_data"
    }
   ],
   "source": [
    "plt.figure(figsize=(25,8))\n",
    "sns.barplot(data=df_jpm_institute,x='Holder',y='Shares')\n",
    "# Set y-axis ticks and labels\n",
    "plt.yticks(range(35000000, 290000000, 30000000), [f'{i // 1000000}M' for i in range(35000000, 290000000, 30000000)])\n",
    "\n",
    "\n",
    "plt.xticks(rotation=90)\n",
    "plt.show()"
   ]
  },
  {
   "cell_type": "code",
   "execution_count": 22,
   "id": "7222bf98",
   "metadata": {},
   "outputs": [],
   "source": [
    "# jpm.balance_sheet"
   ]
  },
  {
   "cell_type": "code",
   "execution_count": 23,
   "id": "f41b7d35",
   "metadata": {},
   "outputs": [],
   "source": [
    "cat = yf.Ticker(\"CAT\")\n",
    "\n",
    "# Fetch historical market data (adjust parameters as needed)\n",
    "df_cat = cat.history(period='max')"
   ]
  },
  {
   "cell_type": "code",
   "execution_count": 24,
   "id": "f0dc6ede",
   "metadata": {},
   "outputs": [],
   "source": [
    "df_cat=df_cat.reset_index()\n",
    "df_cat['year']=df_cat['Date'].dt.year"
   ]
  },
  {
   "cell_type": "code",
   "execution_count": 25,
   "id": "5baabadb",
   "metadata": {},
   "outputs": [
    {
     "data": {
      "text/html": [
       "<div>\n",
       "<style scoped>\n",
       "    .dataframe tbody tr th:only-of-type {\n",
       "        vertical-align: middle;\n",
       "    }\n",
       "\n",
       "    .dataframe tbody tr th {\n",
       "        vertical-align: top;\n",
       "    }\n",
       "\n",
       "    .dataframe thead th {\n",
       "        text-align: right;\n",
       "    }\n",
       "</style>\n",
       "<table border=\"1\" class=\"dataframe\">\n",
       "  <thead>\n",
       "    <tr style=\"text-align: right;\">\n",
       "      <th></th>\n",
       "      <th>Date</th>\n",
       "      <th>Open</th>\n",
       "      <th>High</th>\n",
       "      <th>Low</th>\n",
       "      <th>Close</th>\n",
       "      <th>Volume</th>\n",
       "      <th>Dividends</th>\n",
       "      <th>Stock Splits</th>\n",
       "      <th>year</th>\n",
       "    </tr>\n",
       "  </thead>\n",
       "  <tbody>\n",
       "    <tr>\n",
       "      <th>0</th>\n",
       "      <td>1962-01-02 00:00:00-05:00</td>\n",
       "      <td>0.474928</td>\n",
       "      <td>0.479553</td>\n",
       "      <td>0.470302</td>\n",
       "      <td>0.474928</td>\n",
       "      <td>163200</td>\n",
       "      <td>0.0</td>\n",
       "      <td>0.0</td>\n",
       "      <td>1962</td>\n",
       "    </tr>\n",
       "    <tr>\n",
       "      <th>1</th>\n",
       "      <td>1962-01-03 00:00:00-05:00</td>\n",
       "      <td>0.474927</td>\n",
       "      <td>0.479553</td>\n",
       "      <td>0.470301</td>\n",
       "      <td>0.479553</td>\n",
       "      <td>156000</td>\n",
       "      <td>0.0</td>\n",
       "      <td>0.0</td>\n",
       "      <td>1962</td>\n",
       "    </tr>\n",
       "    <tr>\n",
       "      <th>2</th>\n",
       "      <td>1962-01-04 00:00:00-05:00</td>\n",
       "      <td>0.490347</td>\n",
       "      <td>0.505767</td>\n",
       "      <td>0.490347</td>\n",
       "      <td>0.491889</td>\n",
       "      <td>355200</td>\n",
       "      <td>0.0</td>\n",
       "      <td>0.0</td>\n",
       "      <td>1962</td>\n",
       "    </tr>\n",
       "    <tr>\n",
       "      <th>3</th>\n",
       "      <td>1962-01-05 00:00:00-05:00</td>\n",
       "      <td>0.491889</td>\n",
       "      <td>0.502683</td>\n",
       "      <td>0.490347</td>\n",
       "      <td>0.496515</td>\n",
       "      <td>163200</td>\n",
       "      <td>0.0</td>\n",
       "      <td>0.0</td>\n",
       "      <td>1962</td>\n",
       "    </tr>\n",
       "    <tr>\n",
       "      <th>4</th>\n",
       "      <td>1962-01-08 00:00:00-05:00</td>\n",
       "      <td>0.496515</td>\n",
       "      <td>0.504225</td>\n",
       "      <td>0.493432</td>\n",
       "      <td>0.499599</td>\n",
       "      <td>204000</td>\n",
       "      <td>0.0</td>\n",
       "      <td>0.0</td>\n",
       "      <td>1962</td>\n",
       "    </tr>\n",
       "    <tr>\n",
       "      <th>...</th>\n",
       "      <td>...</td>\n",
       "      <td>...</td>\n",
       "      <td>...</td>\n",
       "      <td>...</td>\n",
       "      <td>...</td>\n",
       "      <td>...</td>\n",
       "      <td>...</td>\n",
       "      <td>...</td>\n",
       "      <td>...</td>\n",
       "    </tr>\n",
       "    <tr>\n",
       "      <th>15720</th>\n",
       "      <td>2024-06-14 00:00:00-04:00</td>\n",
       "      <td>321.390015</td>\n",
       "      <td>322.679993</td>\n",
       "      <td>315.850006</td>\n",
       "      <td>321.470001</td>\n",
       "      <td>4195300</td>\n",
       "      <td>0.0</td>\n",
       "      <td>0.0</td>\n",
       "      <td>2024</td>\n",
       "    </tr>\n",
       "    <tr>\n",
       "      <th>15721</th>\n",
       "      <td>2024-06-17 00:00:00-04:00</td>\n",
       "      <td>321.470001</td>\n",
       "      <td>323.839996</td>\n",
       "      <td>318.880005</td>\n",
       "      <td>322.399994</td>\n",
       "      <td>3198900</td>\n",
       "      <td>0.0</td>\n",
       "      <td>0.0</td>\n",
       "      <td>2024</td>\n",
       "    </tr>\n",
       "    <tr>\n",
       "      <th>15722</th>\n",
       "      <td>2024-06-18 00:00:00-04:00</td>\n",
       "      <td>323.049988</td>\n",
       "      <td>325.600006</td>\n",
       "      <td>321.000000</td>\n",
       "      <td>325.140015</td>\n",
       "      <td>3275300</td>\n",
       "      <td>0.0</td>\n",
       "      <td>0.0</td>\n",
       "      <td>2024</td>\n",
       "    </tr>\n",
       "    <tr>\n",
       "      <th>15723</th>\n",
       "      <td>2024-06-20 00:00:00-04:00</td>\n",
       "      <td>325.059998</td>\n",
       "      <td>331.100006</td>\n",
       "      <td>324.579987</td>\n",
       "      <td>329.130005</td>\n",
       "      <td>4463300</td>\n",
       "      <td>0.0</td>\n",
       "      <td>0.0</td>\n",
       "      <td>2024</td>\n",
       "    </tr>\n",
       "    <tr>\n",
       "      <th>15724</th>\n",
       "      <td>2024-06-21 00:00:00-04:00</td>\n",
       "      <td>330.529999</td>\n",
       "      <td>330.549988</td>\n",
       "      <td>326.179993</td>\n",
       "      <td>327.839996</td>\n",
       "      <td>8265100</td>\n",
       "      <td>0.0</td>\n",
       "      <td>0.0</td>\n",
       "      <td>2024</td>\n",
       "    </tr>\n",
       "  </tbody>\n",
       "</table>\n",
       "<p>15725 rows × 9 columns</p>\n",
       "</div>"
      ],
      "text/plain": [
       "                           Date        Open        High         Low       Close   Volume  Dividends  Stock Splits  year\n",
       "0     1962-01-02 00:00:00-05:00    0.474928    0.479553    0.470302    0.474928   163200        0.0           0.0  1962\n",
       "1     1962-01-03 00:00:00-05:00    0.474927    0.479553    0.470301    0.479553   156000        0.0           0.0  1962\n",
       "2     1962-01-04 00:00:00-05:00    0.490347    0.505767    0.490347    0.491889   355200        0.0           0.0  1962\n",
       "3     1962-01-05 00:00:00-05:00    0.491889    0.502683    0.490347    0.496515   163200        0.0           0.0  1962\n",
       "4     1962-01-08 00:00:00-05:00    0.496515    0.504225    0.493432    0.499599   204000        0.0           0.0  1962\n",
       "...                         ...         ...         ...         ...         ...      ...        ...           ...   ...\n",
       "15720 2024-06-14 00:00:00-04:00  321.390015  322.679993  315.850006  321.470001  4195300        0.0           0.0  2024\n",
       "15721 2024-06-17 00:00:00-04:00  321.470001  323.839996  318.880005  322.399994  3198900        0.0           0.0  2024\n",
       "15722 2024-06-18 00:00:00-04:00  323.049988  325.600006  321.000000  325.140015  3275300        0.0           0.0  2024\n",
       "15723 2024-06-20 00:00:00-04:00  325.059998  331.100006  324.579987  329.130005  4463300        0.0           0.0  2024\n",
       "15724 2024-06-21 00:00:00-04:00  330.529999  330.549988  326.179993  327.839996  8265100        0.0           0.0  2024\n",
       "\n",
       "[15725 rows x 9 columns]"
      ]
     },
     "execution_count": 25,
     "metadata": {},
     "output_type": "execute_result"
    }
   ],
   "source": [
    "df_cat"
   ]
  },
  {
   "cell_type": "code",
   "execution_count": 26,
   "id": "9c27aa8f",
   "metadata": {},
   "outputs": [],
   "source": [
    "a1=df_cat[df_cat['year']>=1994]"
   ]
  },
  {
   "cell_type": "code",
   "execution_count": 27,
   "id": "807347ef",
   "metadata": {},
   "outputs": [
    {
     "data": {
      "image/png": "[encoded data removed]",
      "text/plain": [
       "<Figure size 3000x800 with 1 Axes>"
      ]
     },
     "metadata": {},
     "output_type": "display_data"
    }
   ],
   "source": [
    "plt.figure(figsize=(30,8))\n",
    "\n",
    "\n",
    "sns.barplot(data=df_cat,x=a1['year'],y=a1['Open'])\n",
    "# plt.\n",
    "plt.show()"
   ]
  },
  {
   "cell_type": "code",
   "execution_count": 28,
   "id": "13fd2602",
   "metadata": {},
   "outputs": [
    {
     "data": {
      "image/png": "[encoded data removed]",
      "text/plain": [
       "<Figure size 3000x800 with 1 Axes>"
      ]
     },
     "metadata": {},
     "output_type": "display_data"
    }
   ],
   "source": [
    "plt.figure(figsize=(30,8))\n",
    "\n",
    "sns.barplot(data=df_cat,x=a1['year'],y=a1['Dividends'])\n",
    "plt.show()"
   ]
  },
  {
   "cell_type": "code",
   "execution_count": 29,
   "id": "df45d350",
   "metadata": {},
   "outputs": [
    {
     "data": {
      "image/png": "[encoded data removed]",
      "text/plain": [
       "<Figure size 3000x800 with 1 Axes>"
      ]
     },
     "metadata": {},
     "output_type": "display_data"
    }
   ],
   "source": [
    "plt.figure(figsize=(30,8))\n",
    "\n",
    "sns.barplot(data=df_cat,x=a1['year'],y=a1['Volume'])\n",
    "\n",
    "plt.show()"
   ]
  },
  {
   "cell_type": "code",
   "execution_count": 30,
   "id": "77e26c2a",
   "metadata": {},
   "outputs": [
    {
     "data": {
      "text/html": [
       "<div>\n",
       "<style scoped>\n",
       "    .dataframe tbody tr th:only-of-type {\n",
       "        vertical-align: middle;\n",
       "    }\n",
       "\n",
       "    .dataframe tbody tr th {\n",
       "        vertical-align: top;\n",
       "    }\n",
       "\n",
       "    .dataframe thead th {\n",
       "        text-align: right;\n",
       "    }\n",
       "</style>\n",
       "<table border=\"1\" class=\"dataframe\">\n",
       "  <thead>\n",
       "    <tr style=\"text-align: right;\">\n",
       "      <th>Breakdown</th>\n",
       "      <th>Value</th>\n",
       "    </tr>\n",
       "  </thead>\n",
       "  <tbody>\n",
       "    <tr>\n",
       "      <th>insidersPercentHeld</th>\n",
       "      <td>0.00203</td>\n",
       "    </tr>\n",
       "    <tr>\n",
       "      <th>institutionsPercentHeld</th>\n",
       "      <td>0.72931</td>\n",
       "    </tr>\n",
       "    <tr>\n",
       "      <th>institutionsFloatPercentHeld</th>\n",
       "      <td>0.73079</td>\n",
       "    </tr>\n",
       "    <tr>\n",
       "      <th>institutionsCount</th>\n",
       "      <td>3300.00000</td>\n",
       "    </tr>\n",
       "  </tbody>\n",
       "</table>\n",
       "</div>"
      ],
      "text/plain": [
       "Breakdown                          Value\n",
       "insidersPercentHeld              0.00203\n",
       "institutionsPercentHeld          0.72931\n",
       "institutionsFloatPercentHeld     0.73079\n",
       "institutionsCount             3300.00000"
      ]
     },
     "execution_count": 30,
     "metadata": {},
     "output_type": "execute_result"
    }
   ],
   "source": [
    "cat.major_holders"
   ]
  },
  {
   "cell_type": "code",
   "execution_count": 31,
   "id": "c61ea0a3",
   "metadata": {},
   "outputs": [
    {
     "data": {
      "text/html": [
       "<div>\n",
       "<style scoped>\n",
       "    .dataframe tbody tr th:only-of-type {\n",
       "        vertical-align: middle;\n",
       "    }\n",
       "\n",
       "    .dataframe tbody tr th {\n",
       "        vertical-align: top;\n",
       "    }\n",
       "\n",
       "    .dataframe thead th {\n",
       "        text-align: right;\n",
       "    }\n",
       "</style>\n",
       "<table border=\"1\" class=\"dataframe\">\n",
       "  <thead>\n",
       "    <tr style=\"text-align: right;\">\n",
       "      <th></th>\n",
       "      <th>Insider Purchases Last 6m</th>\n",
       "      <th>Shares</th>\n",
       "      <th>Trans</th>\n",
       "    </tr>\n",
       "  </thead>\n",
       "  <tbody>\n",
       "    <tr>\n",
       "      <th>0</th>\n",
       "      <td>Purchases</td>\n",
       "      <td>299867.0</td>\n",
       "      <td>39</td>\n",
       "    </tr>\n",
       "    <tr>\n",
       "      <th>1</th>\n",
       "      <td>Sales</td>\n",
       "      <td>91087.0</td>\n",
       "      <td>8</td>\n",
       "    </tr>\n",
       "    <tr>\n",
       "      <th>2</th>\n",
       "      <td>Net Shares Purchased (Sold)</td>\n",
       "      <td>208780.0</td>\n",
       "      <td>47</td>\n",
       "    </tr>\n",
       "    <tr>\n",
       "      <th>3</th>\n",
       "      <td>Total Insider Shares Held</td>\n",
       "      <td>993224.0</td>\n",
       "      <td>&lt;NA&gt;</td>\n",
       "    </tr>\n",
       "    <tr>\n",
       "      <th>4</th>\n",
       "      <td>% Net Shares Purchased (Sold)</td>\n",
       "      <td>0.267</td>\n",
       "      <td>&lt;NA&gt;</td>\n",
       "    </tr>\n",
       "    <tr>\n",
       "      <th>5</th>\n",
       "      <td>% Buy Shares</td>\n",
       "      <td>0.383</td>\n",
       "      <td>&lt;NA&gt;</td>\n",
       "    </tr>\n",
       "    <tr>\n",
       "      <th>6</th>\n",
       "      <td>% Sell Shares</td>\n",
       "      <td>0.116</td>\n",
       "      <td>&lt;NA&gt;</td>\n",
       "    </tr>\n",
       "  </tbody>\n",
       "</table>\n",
       "</div>"
      ],
      "text/plain": [
       "       Insider Purchases Last 6m    Shares  Trans\n",
       "0                      Purchases  299867.0     39\n",
       "1                          Sales   91087.0      8\n",
       "2    Net Shares Purchased (Sold)  208780.0     47\n",
       "3      Total Insider Shares Held  993224.0   <NA>\n",
       "4  % Net Shares Purchased (Sold)     0.267   <NA>\n",
       "5                   % Buy Shares     0.383   <NA>\n",
       "6                  % Sell Shares     0.116   <NA>"
      ]
     },
     "execution_count": 31,
     "metadata": {},
     "output_type": "execute_result"
    }
   ],
   "source": [
    "cat.get_insider_purchases()"
   ]
  },
  {
   "cell_type": "code",
   "execution_count": 32,
   "id": "89e34a1c",
   "metadata": {},
   "outputs": [],
   "source": [
    "aap=yf.Ticker('AAPL')\n",
    "df_aap = aap.history(period='max')"
   ]
  },
  {
   "cell_type": "code",
   "execution_count": 33,
   "id": "13b5a282",
   "metadata": {},
   "outputs": [],
   "source": [
    "df_aap=df_aap.reset_index()\n",
    "df_aap['year']=df_aap['Date'].dt.year"
   ]
  },
  {
   "cell_type": "code",
   "execution_count": 34,
   "id": "7be4c83a",
   "metadata": {},
   "outputs": [
    {
     "data": {
      "text/html": [
       "<div>\n",
       "<style scoped>\n",
       "    .dataframe tbody tr th:only-of-type {\n",
       "        vertical-align: middle;\n",
       "    }\n",
       "\n",
       "    .dataframe tbody tr th {\n",
       "        vertical-align: top;\n",
       "    }\n",
       "\n",
       "    .dataframe thead th {\n",
       "        text-align: right;\n",
       "    }\n",
       "</style>\n",
       "<table border=\"1\" class=\"dataframe\">\n",
       "  <thead>\n",
       "    <tr style=\"text-align: right;\">\n",
       "      <th></th>\n",
       "      <th>Date</th>\n",
       "      <th>Open</th>\n",
       "      <th>High</th>\n",
       "      <th>Low</th>\n",
       "      <th>Close</th>\n",
       "      <th>Volume</th>\n",
       "      <th>Dividends</th>\n",
       "      <th>Stock Splits</th>\n",
       "      <th>year</th>\n",
       "    </tr>\n",
       "  </thead>\n",
       "  <tbody>\n",
       "    <tr>\n",
       "      <th>0</th>\n",
       "      <td>1980-12-12 00:00:00-05:00</td>\n",
       "      <td>0.099192</td>\n",
       "      <td>0.099623</td>\n",
       "      <td>0.099192</td>\n",
       "      <td>0.099192</td>\n",
       "      <td>469033600</td>\n",
       "      <td>0.0</td>\n",
       "      <td>0.0</td>\n",
       "      <td>1980</td>\n",
       "    </tr>\n",
       "    <tr>\n",
       "      <th>1</th>\n",
       "      <td>1980-12-15 00:00:00-05:00</td>\n",
       "      <td>0.094448</td>\n",
       "      <td>0.094448</td>\n",
       "      <td>0.094017</td>\n",
       "      <td>0.094017</td>\n",
       "      <td>175884800</td>\n",
       "      <td>0.0</td>\n",
       "      <td>0.0</td>\n",
       "      <td>1980</td>\n",
       "    </tr>\n",
       "    <tr>\n",
       "      <th>2</th>\n",
       "      <td>1980-12-16 00:00:00-05:00</td>\n",
       "      <td>0.087548</td>\n",
       "      <td>0.087548</td>\n",
       "      <td>0.087117</td>\n",
       "      <td>0.087117</td>\n",
       "      <td>105728000</td>\n",
       "      <td>0.0</td>\n",
       "      <td>0.0</td>\n",
       "      <td>1980</td>\n",
       "    </tr>\n",
       "    <tr>\n",
       "      <th>3</th>\n",
       "      <td>1980-12-17 00:00:00-05:00</td>\n",
       "      <td>0.089273</td>\n",
       "      <td>0.089704</td>\n",
       "      <td>0.089273</td>\n",
       "      <td>0.089273</td>\n",
       "      <td>86441600</td>\n",
       "      <td>0.0</td>\n",
       "      <td>0.0</td>\n",
       "      <td>1980</td>\n",
       "    </tr>\n",
       "    <tr>\n",
       "      <th>4</th>\n",
       "      <td>1980-12-18 00:00:00-05:00</td>\n",
       "      <td>0.091861</td>\n",
       "      <td>0.092292</td>\n",
       "      <td>0.091861</td>\n",
       "      <td>0.091861</td>\n",
       "      <td>73449600</td>\n",
       "      <td>0.0</td>\n",
       "      <td>0.0</td>\n",
       "      <td>1980</td>\n",
       "    </tr>\n",
       "    <tr>\n",
       "      <th>...</th>\n",
       "      <td>...</td>\n",
       "      <td>...</td>\n",
       "      <td>...</td>\n",
       "      <td>...</td>\n",
       "      <td>...</td>\n",
       "      <td>...</td>\n",
       "      <td>...</td>\n",
       "      <td>...</td>\n",
       "      <td>...</td>\n",
       "    </tr>\n",
       "    <tr>\n",
       "      <th>10967</th>\n",
       "      <td>2024-06-14 00:00:00-04:00</td>\n",
       "      <td>213.850006</td>\n",
       "      <td>215.169998</td>\n",
       "      <td>211.300003</td>\n",
       "      <td>212.490005</td>\n",
       "      <td>70122700</td>\n",
       "      <td>0.0</td>\n",
       "      <td>0.0</td>\n",
       "      <td>2024</td>\n",
       "    </tr>\n",
       "    <tr>\n",
       "      <th>10968</th>\n",
       "      <td>2024-06-17 00:00:00-04:00</td>\n",
       "      <td>213.369995</td>\n",
       "      <td>218.949997</td>\n",
       "      <td>212.720001</td>\n",
       "      <td>216.669998</td>\n",
       "      <td>93728300</td>\n",
       "      <td>0.0</td>\n",
       "      <td>0.0</td>\n",
       "      <td>2024</td>\n",
       "    </tr>\n",
       "    <tr>\n",
       "      <th>10969</th>\n",
       "      <td>2024-06-18 00:00:00-04:00</td>\n",
       "      <td>217.589996</td>\n",
       "      <td>218.630005</td>\n",
       "      <td>213.000000</td>\n",
       "      <td>214.289993</td>\n",
       "      <td>79943300</td>\n",
       "      <td>0.0</td>\n",
       "      <td>0.0</td>\n",
       "      <td>2024</td>\n",
       "    </tr>\n",
       "    <tr>\n",
       "      <th>10970</th>\n",
       "      <td>2024-06-20 00:00:00-04:00</td>\n",
       "      <td>213.929993</td>\n",
       "      <td>214.240005</td>\n",
       "      <td>208.850006</td>\n",
       "      <td>209.679993</td>\n",
       "      <td>86172500</td>\n",
       "      <td>0.0</td>\n",
       "      <td>0.0</td>\n",
       "      <td>2024</td>\n",
       "    </tr>\n",
       "    <tr>\n",
       "      <th>10971</th>\n",
       "      <td>2024-06-21 00:00:00-04:00</td>\n",
       "      <td>210.389999</td>\n",
       "      <td>211.889999</td>\n",
       "      <td>207.110001</td>\n",
       "      <td>207.490005</td>\n",
       "      <td>241805100</td>\n",
       "      <td>0.0</td>\n",
       "      <td>0.0</td>\n",
       "      <td>2024</td>\n",
       "    </tr>\n",
       "  </tbody>\n",
       "</table>\n",
       "<p>10972 rows × 9 columns</p>\n",
       "</div>"
      ],
      "text/plain": [
       "                           Date        Open        High         Low       Close     Volume  Dividends  Stock Splits  year\n",
       "0     1980-12-12 00:00:00-05:00    0.099192    0.099623    0.099192    0.099192  469033600        0.0           0.0  1980\n",
       "1     1980-12-15 00:00:00-05:00    0.094448    0.094448    0.094017    0.094017  175884800        0.0           0.0  1980\n",
       "2     1980-12-16 00:00:00-05:00    0.087548    0.087548    0.087117    0.087117  105728000        0.0           0.0  1980\n",
       "3     1980-12-17 00:00:00-05:00    0.089273    0.089704    0.089273    0.089273   86441600        0.0           0.0  1980\n",
       "4     1980-12-18 00:00:00-05:00    0.091861    0.092292    0.091861    0.091861   73449600        0.0           0.0  1980\n",
       "...                         ...         ...         ...         ...         ...        ...        ...           ...   ...\n",
       "10967 2024-06-14 00:00:00-04:00  213.850006  215.169998  211.300003  212.490005   70122700        0.0           0.0  2024\n",
       "10968 2024-06-17 00:00:00-04:00  213.369995  218.949997  212.720001  216.669998   93728300        0.0           0.0  2024\n",
       "10969 2024-06-18 00:00:00-04:00  217.589996  218.630005  213.000000  214.289993   79943300        0.0           0.0  2024\n",
       "10970 2024-06-20 00:00:00-04:00  213.929993  214.240005  208.850006  209.679993   86172500        0.0           0.0  2024\n",
       "10971 2024-06-21 00:00:00-04:00  210.389999  211.889999  207.110001  207.490005  241805100        0.0           0.0  2024\n",
       "\n",
       "[10972 rows x 9 columns]"
      ]
     },
     "execution_count": 34,
     "metadata": {},
     "output_type": "execute_result"
    }
   ],
   "source": [
    "df_aap"
   ]
  },
  {
   "cell_type": "code",
   "execution_count": 35,
   "id": "2e448e48",
   "metadata": {},
   "outputs": [
    {
     "data": {
      "text/plain": [
       "<Axes: xlabel='year', ylabel='Open'>"
      ]
     },
     "execution_count": 35,
     "metadata": {},
     "output_type": "execute_result"
    },
    {
     "data": {
      "image/png": "[encoded data removed]",
      "text/plain": [
       "<Figure size 3000x800 with 1 Axes>"
      ]
     },
     "metadata": {},
     "output_type": "display_data"
    }
   ],
   "source": [
    "plt.figure(figsize=(30,8))\n",
    "\n",
    "\n",
    "sns.barplot(data=df_cat,x=df_aap['year'],y=df_aap['Open'])"
   ]
  },
  {
   "cell_type": "code",
   "execution_count": 36,
   "id": "508c6d9b",
   "metadata": {},
   "outputs": [],
   "source": [
    "a1=df_aap[df_aap['year']>=2001]"
   ]
  },
  {
   "cell_type": "code",
   "execution_count": 37,
   "id": "2e4d2bde",
   "metadata": {},
   "outputs": [
    {
     "data": {
      "image/png": "[encoded data removed]",
      "text/plain": [
       "<Figure size 3000x800 with 1 Axes>"
      ]
     },
     "metadata": {},
     "output_type": "display_data"
    }
   ],
   "source": [
    "plt.figure(figsize=(30,8))\n",
    "\n",
    "\n",
    "sns.barplot(data=df_aap,x=a1['year'],y=a1['Open'])\n",
    "# plt.\n",
    "plt.show()"
   ]
  },
  {
   "cell_type": "code",
   "execution_count": 38,
   "id": "c5beefa6",
   "metadata": {},
   "outputs": [
    {
     "data": {
      "image/png": "[encoded data removed]",
      "text/plain": [
       "<Figure size 3000x800 with 1 Axes>"
      ]
     },
     "metadata": {},
     "output_type": "display_data"
    }
   ],
   "source": [
    "plt.figure(figsize=(30,8))\n",
    "\n",
    "sns.barplot(data=df_aap,x=a1['year'],y=a1['Dividends'])\n",
    "plt.show()"
   ]
  },
  {
   "cell_type": "code",
   "execution_count": 39,
   "id": "efab2884",
   "metadata": {},
   "outputs": [
    {
     "data": {
      "image/png": "[encoded data removed]",
      "text/plain": [
       "<Figure size 3000x800 with 1 Axes>"
      ]
     },
     "metadata": {},
     "output_type": "display_data"
    }
   ],
   "source": [
    "plt.figure(figsize=(30,8))\n",
    "\n",
    "sns.barplot(data=df_aap,x=df_aap['year'],y=df_aap['Volume'])\n",
    "\n",
    "plt.show()"
   ]
  },
  {
   "cell_type": "code",
   "execution_count": 40,
   "id": "a87d7a5c",
   "metadata": {},
   "outputs": [
    {
     "data": {
      "text/html": [
       "<div>\n",
       "<style scoped>\n",
       "    .dataframe tbody tr th:only-of-type {\n",
       "        vertical-align: middle;\n",
       "    }\n",
       "\n",
       "    .dataframe tbody tr th {\n",
       "        vertical-align: top;\n",
       "    }\n",
       "\n",
       "    .dataframe thead th {\n",
       "        text-align: right;\n",
       "    }\n",
       "</style>\n",
       "<table border=\"1\" class=\"dataframe\">\n",
       "  <thead>\n",
       "    <tr style=\"text-align: right;\">\n",
       "      <th></th>\n",
       "      <th>Dividends</th>\n",
       "      <th>Stock Splits</th>\n",
       "    </tr>\n",
       "    <tr>\n",
       "      <th>Date</th>\n",
       "      <th></th>\n",
       "      <th></th>\n",
       "    </tr>\n",
       "  </thead>\n",
       "  <tbody>\n",
       "    <tr>\n",
       "      <th>1987-05-11 00:00:00-04:00</th>\n",
       "      <td>0.000536</td>\n",
       "      <td>0.0</td>\n",
       "    </tr>\n",
       "    <tr>\n",
       "      <th>1987-06-16 00:00:00-04:00</th>\n",
       "      <td>0.000000</td>\n",
       "      <td>2.0</td>\n",
       "    </tr>\n",
       "    <tr>\n",
       "      <th>1987-08-10 00:00:00-04:00</th>\n",
       "      <td>0.000536</td>\n",
       "      <td>0.0</td>\n",
       "    </tr>\n",
       "  </tbody>\n",
       "</table>\n",
       "</div>"
      ],
      "text/plain": [
       "                           Dividends  Stock Splits\n",
       "Date                                              \n",
       "1987-05-11 00:00:00-04:00   0.000536           0.0\n",
       "1987-06-16 00:00:00-04:00   0.000000           2.0\n",
       "1987-08-10 00:00:00-04:00   0.000536           0.0"
      ]
     },
     "execution_count": 40,
     "metadata": {},
     "output_type": "execute_result"
    }
   ],
   "source": [
    "aap.actions.head(3)"
   ]
  },
  {
   "cell_type": "code",
   "execution_count": 41,
   "id": "bb94e40f",
   "metadata": {},
   "outputs": [],
   "source": [
    "df_aap_institute=aap.institutional_holders.sort_values(by='Shares')"
   ]
  },
  {
   "cell_type": "code",
   "execution_count": 42,
   "id": "efcf7779",
   "metadata": {},
   "outputs": [
    {
     "data": {
      "text/html": [
       "<div>\n",
       "<style scoped>\n",
       "    .dataframe tbody tr th:only-of-type {\n",
       "        vertical-align: middle;\n",
       "    }\n",
       "\n",
       "    .dataframe tbody tr th {\n",
       "        vertical-align: top;\n",
       "    }\n",
       "\n",
       "    .dataframe thead th {\n",
       "        text-align: right;\n",
       "    }\n",
       "</style>\n",
       "<table border=\"1\" class=\"dataframe\">\n",
       "  <thead>\n",
       "    <tr style=\"text-align: right;\">\n",
       "      <th></th>\n",
       "      <th>Date Reported</th>\n",
       "      <th>Holder</th>\n",
       "      <th>pctHeld</th>\n",
       "      <th>Shares</th>\n",
       "      <th>Value</th>\n",
       "    </tr>\n",
       "  </thead>\n",
       "  <tbody>\n",
       "    <tr>\n",
       "      <th>9</th>\n",
       "      <td>2023-06-30</td>\n",
       "      <td>Northern Trust Corporation</td>\n",
       "      <td>0.0105</td>\n",
       "      <td>164536073</td>\n",
       "      <td>31915062079</td>\n",
       "    </tr>\n",
       "    <tr>\n",
       "      <th>8</th>\n",
       "      <td>2022-12-31</td>\n",
       "      <td>Norges Bank Investment Management</td>\n",
       "      <td>0.0107</td>\n",
       "      <td>167374278</td>\n",
       "      <td>21746939940</td>\n",
       "    </tr>\n",
       "    <tr>\n",
       "      <th>7</th>\n",
       "      <td>2023-06-30</td>\n",
       "      <td>Morgan Stanley</td>\n",
       "      <td>0.0131</td>\n",
       "      <td>204714950</td>\n",
       "      <td>39708558851</td>\n",
       "    </tr>\n",
       "    <tr>\n",
       "      <th>6</th>\n",
       "      <td>2023-06-30</td>\n",
       "      <td>Price (T.Rowe) Associates Inc</td>\n",
       "      <td>0.0145</td>\n",
       "      <td>226650943</td>\n",
       "      <td>43963483413</td>\n",
       "    </tr>\n",
       "    <tr>\n",
       "      <th>5</th>\n",
       "      <td>2023-06-30</td>\n",
       "      <td>Geode Capital Management, LLC</td>\n",
       "      <td>0.0186</td>\n",
       "      <td>291538165</td>\n",
       "      <td>56549657865</td>\n",
       "    </tr>\n",
       "    <tr>\n",
       "      <th>4</th>\n",
       "      <td>2023-06-30</td>\n",
       "      <td>FMR, LLC</td>\n",
       "      <td>0.0196</td>\n",
       "      <td>307066638</td>\n",
       "      <td>59561715772</td>\n",
       "    </tr>\n",
       "    <tr>\n",
       "      <th>3</th>\n",
       "      <td>2023-06-30</td>\n",
       "      <td>State Street Corporation</td>\n",
       "      <td>0.0370</td>\n",
       "      <td>578897858</td>\n",
       "      <td>112288817516</td>\n",
       "    </tr>\n",
       "    <tr>\n",
       "      <th>2</th>\n",
       "      <td>2023-06-30</td>\n",
       "      <td>Berkshire Hathaway, Inc</td>\n",
       "      <td>0.0586</td>\n",
       "      <td>915560382</td>\n",
       "      <td>177591247296</td>\n",
       "    </tr>\n",
       "    <tr>\n",
       "      <th>1</th>\n",
       "      <td>2023-06-30</td>\n",
       "      <td>Blackrock Inc.</td>\n",
       "      <td>0.0665</td>\n",
       "      <td>1039640859</td>\n",
       "      <td>201659137420</td>\n",
       "    </tr>\n",
       "    <tr>\n",
       "      <th>0</th>\n",
       "      <td>2023-06-30</td>\n",
       "      <td>Vanguard Group Inc</td>\n",
       "      <td>0.0834</td>\n",
       "      <td>1303688506</td>\n",
       "      <td>252876459508</td>\n",
       "    </tr>\n",
       "  </tbody>\n",
       "</table>\n",
       "</div>"
      ],
      "text/plain": [
       "  Date Reported                             Holder  pctHeld      Shares         Value\n",
       "9    2023-06-30         Northern Trust Corporation   0.0105   164536073   31915062079\n",
       "8    2022-12-31  Norges Bank Investment Management   0.0107   167374278   21746939940\n",
       "7    2023-06-30                     Morgan Stanley   0.0131   204714950   39708558851\n",
       "6    2023-06-30      Price (T.Rowe) Associates Inc   0.0145   226650943   43963483413\n",
       "5    2023-06-30      Geode Capital Management, LLC   0.0186   291538165   56549657865\n",
       "4    2023-06-30                           FMR, LLC   0.0196   307066638   59561715772\n",
       "3    2023-06-30           State Street Corporation   0.0370   578897858  112288817516\n",
       "2    2023-06-30            Berkshire Hathaway, Inc   0.0586   915560382  177591247296\n",
       "1    2023-06-30                     Blackrock Inc.   0.0665  1039640859  201659137420\n",
       "0    2023-06-30                 Vanguard Group Inc   0.0834  1303688506  252876459508"
      ]
     },
     "execution_count": 42,
     "metadata": {},
     "output_type": "execute_result"
    }
   ],
   "source": [
    "df_aap_institute"
   ]
  },
  {
   "cell_type": "code",
   "execution_count": 43,
   "id": "97fcbaf0",
   "metadata": {},
   "outputs": [
    {
     "data": {
      "image/png": "[encoded data removed]",
      "text/plain": [
       "<Figure size 1500x600 with 1 Axes>"
      ]
     },
     "metadata": {},
     "output_type": "display_data"
    }
   ],
   "source": [
    "plt.figure(figsize=(15,6))\n",
    "sns.barplot(data=df_aap_institute,y='Holder',x='Shares')\n",
    "plt.show()"
   ]
  },
  {
   "cell_type": "code",
   "execution_count": 44,
   "id": "52e3ad48",
   "metadata": {},
   "outputs": [
    {
     "data": {
      "text/html": [
       "<div>\n",
       "<style scoped>\n",
       "    .dataframe tbody tr th:only-of-type {\n",
       "        vertical-align: middle;\n",
       "    }\n",
       "\n",
       "    .dataframe tbody tr th {\n",
       "        vertical-align: top;\n",
       "    }\n",
       "\n",
       "    .dataframe thead th {\n",
       "        text-align: right;\n",
       "    }\n",
       "</style>\n",
       "<table border=\"1\" class=\"dataframe\">\n",
       "  <thead>\n",
       "    <tr style=\"text-align: right;\">\n",
       "      <th></th>\n",
       "      <th>Ticker</th>\n",
       "      <th>Stock Name</th>\n",
       "      <th>Trade Date</th>\n",
       "      <th>Trade Time</th>\n",
       "      <th>Trade Size</th>\n",
       "      <th>Execution Time (ms)</th>\n",
       "      <th>Trade Direction</th>\n",
       "      <th>Trade Price</th>\n",
       "      <th>Exchange</th>\n",
       "      <th>Order type</th>\n",
       "    </tr>\n",
       "  </thead>\n",
       "  <tbody>\n",
       "    <tr>\n",
       "      <th>0</th>\n",
       "      <td>CAT</td>\n",
       "      <td>Caterpillar Inc.</td>\n",
       "      <td>01-09-2024</td>\n",
       "      <td>10:12:16</td>\n",
       "      <td>745</td>\n",
       "      <td>120</td>\n",
       "      <td>SELL</td>\n",
       "      <td>$170.26</td>\n",
       "      <td>NYSE</td>\n",
       "      <td>LMT</td>\n",
       "    </tr>\n",
       "    <tr>\n",
       "      <th>1</th>\n",
       "      <td>AAPL</td>\n",
       "      <td>Apple Inc.</td>\n",
       "      <td>12/26/2023</td>\n",
       "      <td>12:03:42</td>\n",
       "      <td>523</td>\n",
       "      <td>397</td>\n",
       "      <td>BUY</td>\n",
       "      <td>$174.87</td>\n",
       "      <td>NASDAQ</td>\n",
       "      <td>MKT</td>\n",
       "    </tr>\n",
       "    <tr>\n",
       "      <th>2</th>\n",
       "      <td>CAT</td>\n",
       "      <td>Caterpillar Inc.</td>\n",
       "      <td>1/19/2024</td>\n",
       "      <td>09:34:14</td>\n",
       "      <td>676</td>\n",
       "      <td>632</td>\n",
       "      <td>BUY</td>\n",
       "      <td>$230.25</td>\n",
       "      <td>NYSE</td>\n",
       "      <td>LMT</td>\n",
       "    </tr>\n",
       "    <tr>\n",
       "      <th>3</th>\n",
       "      <td>AAPL</td>\n",
       "      <td>Apple Inc.</td>\n",
       "      <td>01-10-2024</td>\n",
       "      <td>13:01:42</td>\n",
       "      <td>131</td>\n",
       "      <td>498</td>\n",
       "      <td>BUY</td>\n",
       "      <td>$154.16</td>\n",
       "      <td>NASDAQ</td>\n",
       "      <td>MKT</td>\n",
       "    </tr>\n",
       "  </tbody>\n",
       "</table>\n",
       "</div>"
      ],
      "text/plain": [
       "  Ticker        Stock Name  Trade Date Trade Time  Trade Size  Execution Time (ms) Trade Direction  Trade Price  Exchange Order type\n",
       "0    CAT  Caterpillar Inc.  01-09-2024   10:12:16         745                  120            SELL      $170.26      NYSE        LMT\n",
       "1   AAPL        Apple Inc.  12/26/2023   12:03:42         523                  397             BUY      $174.87    NASDAQ        MKT\n",
       "2    CAT  Caterpillar Inc.   1/19/2024   09:34:14         676                  632             BUY      $230.25      NYSE        LMT\n",
       "3   AAPL        Apple Inc.  01-10-2024   13:01:42         131                  498             BUY      $154.16    NASDAQ        MKT"
      ]
     },
     "execution_count": 44,
     "metadata": {},
     "output_type": "execute_result"
    }
   ],
   "source": [
    "df.head(4)"
   ]
  },
  {
   "cell_type": "code",
   "execution_count": 45,
   "id": "c9235d39",
   "metadata": {},
   "outputs": [
    {
     "name": "stdout",
     "output_type": "stream",
     "text": [
      "<class 'pandas.core.frame.DataFrame'>\n",
      "RangeIndex: 10000 entries, 0 to 9999\n",
      "Data columns (total 10 columns):\n",
      " #   Column               Non-Null Count  Dtype \n",
      "---  ------               --------------  ----- \n",
      " 0   Ticker               10000 non-null  object\n",
      " 1   Stock Name           10000 non-null  object\n",
      " 2   Trade Date           10000 non-null  object\n",
      " 3   Trade Time           10000 non-null  object\n",
      " 4   Trade Size           10000 non-null  int64 \n",
      " 5   Execution Time (ms)  10000 non-null  int64 \n",
      " 6   Trade Direction      10000 non-null  object\n",
      " 7    Trade Price         10000 non-null  object\n",
      " 8   Exchange             10000 non-null  object\n",
      " 9   Order type           10000 non-null  object\n",
      "dtypes: int64(2), object(8)\n",
      "memory usage: 781.4+ KB\n"
     ]
    }
   ],
   "source": [
    "df.info()"
   ]
  },
  {
   "cell_type": "code",
   "execution_count": 46,
   "id": "941fb7f0",
   "metadata": {},
   "outputs": [
    {
     "data": {
      "text/plain": [
       "array(['Caterpillar Inc.', 'Apple Inc.', 'JP Morgan Chase & Co.'],\n",
       "      dtype=object)"
      ]
     },
     "execution_count": 46,
     "metadata": {},
     "output_type": "execute_result"
    }
   ],
   "source": [
    "df['Stock Name'].unique()"
   ]
  },
  {
   "cell_type": "code",
   "execution_count": 47,
   "id": "13b69bb0",
   "metadata": {},
   "outputs": [
    {
     "data": {
      "text/plain": [
       "Stock Name\n",
       "JP Morgan Chase & Co.    3365\n",
       "Caterpillar Inc.         3319\n",
       "Apple Inc.               3316\n",
       "Name: count, dtype: int64"
      ]
     },
     "execution_count": 47,
     "metadata": {},
     "output_type": "execute_result"
    }
   ],
   "source": [
    "df['Stock Name'].value_counts()"
   ]
  },
  {
   "cell_type": "code",
   "execution_count": 48,
   "id": "d0308c77",
   "metadata": {},
   "outputs": [
    {
     "data": {
      "text/plain": [
       "Ticker\n",
       "JPM     3365\n",
       "CAT     3319\n",
       "AAPL    3316\n",
       "Name: count, dtype: int64"
      ]
     },
     "execution_count": 48,
     "metadata": {},
     "output_type": "execute_result"
    }
   ],
   "source": [
    "df['Ticker'].value_counts()"
   ]
  },
  {
   "cell_type": "code",
   "execution_count": 49,
   "id": "495ebf0f",
   "metadata": {},
   "outputs": [
    {
     "data": {
      "text/plain": [
       "(10000, 10)"
      ]
     },
     "execution_count": 49,
     "metadata": {},
     "output_type": "execute_result"
    }
   ],
   "source": [
    "df.shape"
   ]
  },
  {
   "cell_type": "code",
   "execution_count": 50,
   "id": "df2403cf",
   "metadata": {},
   "outputs": [
    {
     "data": {
      "text/plain": [
       "Order type\n",
       "MKT    9996\n",
       "LMT       4\n",
       "Name: count, dtype: int64"
      ]
     },
     "execution_count": 50,
     "metadata": {},
     "output_type": "execute_result"
    }
   ],
   "source": [
    "df['Order type'].value_counts()"
   ]
  },
  {
   "cell_type": "code",
   "execution_count": 51,
   "id": "b5b03565",
   "metadata": {},
   "outputs": [],
   "source": [
    "df['Trade_year']=df['Trade Date'].apply(lambda x: x[-4:]).astype('int64')\n",
    "df.drop(columns='Trade Date',inplace=True)"
   ]
  },
  {
   "cell_type": "code",
   "execution_count": 52,
   "id": "bc66489b",
   "metadata": {},
   "outputs": [],
   "source": [
    "df['Trade_hour']=pd.to_datetime(df['Trade Time']).dt.hour.astype('int64')\n",
    "df['Trade_min']=pd.to_datetime(df['Trade Time']).dt.minute.astype('int64')\n"
   ]
  },
  {
   "cell_type": "code",
   "execution_count": 53,
   "id": "c3f15ba8",
   "metadata": {},
   "outputs": [],
   "source": [
    "df.drop(columns='Trade Time',inplace=True)"
   ]
  },
  {
   "cell_type": "code",
   "execution_count": 54,
   "id": "240459df",
   "metadata": {},
   "outputs": [],
   "source": [
    "df['Time_execution_ms']=df['Execution Time (ms)']\n",
    "df.drop(columns='Execution Time (ms)',inplace=True)"
   ]
  },
  {
   "cell_type": "code",
   "execution_count": 55,
   "id": "3d402ce8",
   "metadata": {},
   "outputs": [],
   "source": [
    "# df[' Trade Price '].apply(lambda x : x[1:])\n",
    "df['Trade_Price_$']=df[' Trade Price '].apply(lambda x: x[1:] if x[0]=='$' else x).astype(dtype='float64')\n",
    "df.drop(columns=' Trade Price ',inplace=True)"
   ]
  },
  {
   "cell_type": "code",
   "execution_count": 56,
   "id": "b422b3b2",
   "metadata": {},
   "outputs": [],
   "source": [
    "df.drop(columns='Ticker',inplace=True)"
   ]
  },
  {
   "cell_type": "code",
   "execution_count": 57,
   "id": "1a44f721",
   "metadata": {},
   "outputs": [],
   "source": [
    "df_categorical=df.select_dtypes('object')\n",
    "df_numerical=df.select_dtypes(['int64','float64'])"
   ]
  },
  {
   "cell_type": "code",
   "execution_count": 58,
   "id": "27c5e972",
   "metadata": {},
   "outputs": [
    {
     "name": "stdout",
     "output_type": "stream",
     "text": [
      "Stock Name\n",
      "JP Morgan Chase & Co.    3365\n",
      "Caterpillar Inc.         3319\n",
      "Apple Inc.               3316\n",
      "Name: count, dtype: int64\n",
      "------------------------------\n",
      "Trade Direction\n",
      "BUY     5028\n",
      "SELL    4972\n",
      "Name: count, dtype: int64\n",
      "------------------------------\n",
      "Exchange\n",
      "NYSE      6684\n",
      "NASDAQ    3316\n",
      "Name: count, dtype: int64\n",
      "------------------------------\n",
      "Order type\n",
      "MKT    9996\n",
      "LMT       4\n",
      "Name: count, dtype: int64\n",
      "------------------------------\n"
     ]
    }
   ],
   "source": [
    "for i in range(4):\n",
    "    j=df_categorical.columns[i]\n",
    "    print(df_categorical[j].value_counts())\n",
    "    print('------------------------------')"
   ]
  },
  {
   "cell_type": "code",
   "execution_count": 59,
   "id": "bb4b9245",
   "metadata": {},
   "outputs": [
    {
     "data": {
      "image/png": "[encoded data removed]",
      "text/plain": [
       "<Figure size 1000x400 with 1 Axes>"
      ]
     },
     "metadata": {},
     "output_type": "display_data"
    }
   ],
   "source": [
    "plt.figure(figsize=(10,4))\n",
    "sns.barplot(x=df['Trade Direction'],y=df['Trade_year'],hue=df['Stock Name'])\n",
    "\n",
    "plt.show()"
   ]
  },
  {
   "cell_type": "code",
   "execution_count": 60,
   "id": "5fa2a25b",
   "metadata": {},
   "outputs": [
    {
     "data": {
      "image/png": "[encoded data removed]",
      "text/plain": [
       "<Figure size 640x480 with 1 Axes>"
      ]
     },
     "metadata": {},
     "output_type": "display_data"
    }
   ],
   "source": [
    "sns.barplot(x=df['Stock Name'],y=df['Trade_Price_$'])\n",
    "plt.show()"
   ]
  },
  {
   "cell_type": "code",
   "execution_count": 61,
   "id": "b40e19d3",
   "metadata": {},
   "outputs": [
    {
     "data": {
      "image/png": "[encoded data removed]",
      "text/plain": [
       "<Figure size 1800x500 with 3 Axes>"
      ]
     },
     "metadata": {},
     "output_type": "display_data"
    }
   ],
   "source": [
    "plt.figure(figsize=(18,5))\n",
    "plt.subplot(1,3,1)\n",
    "plt.title('Trade_size')\n",
    "sns.boxplot(df['Trade Size'])\n",
    "plt.subplot(1,3,2)\n",
    "plt.title('Trade_hour')\n",
    "\n",
    "sns.boxplot(df['Trade_hour'])\n",
    "plt.subplot(1,3,3)\n",
    "plt.title('Trade Price')\n",
    "\n",
    "sns.boxplot(df['Trade_Price_$'])\n",
    "plt.show()"
   ]
  },
  {
   "cell_type": "code",
   "execution_count": null,
   "id": "a0b907fc",
   "metadata": {},
   "outputs": [],
   "source": []
  },
  {
   "cell_type": "code",
   "execution_count": 62,
   "id": "8d3da79d",
   "metadata": {},
   "outputs": [
    {
     "data": {
      "text/plain": [
       "<Axes: xlabel='Stock Name', ylabel='Trade Size'>"
      ]
     },
     "execution_count": 62,
     "metadata": {},
     "output_type": "execute_result"
    },
    {
     "data": {
      "image/png": "[encoded data removed]",
      "text/plain": [
       "<Figure size 640x480 with 1 Axes>"
      ]
     },
     "metadata": {},
     "output_type": "display_data"
    }
   ],
   "source": [
    "sns.barplot(x=df['Stock Name'],y=df['Trade Size'])"
   ]
  },
  {
   "cell_type": "code",
   "execution_count": 63,
   "id": "f11dfc93",
   "metadata": {},
   "outputs": [
    {
     "data": {
      "text/plain": [
       "<Axes: xlabel='Order type', ylabel='Trade_Price_$'>"
      ]
     },
     "execution_count": 63,
     "metadata": {},
     "output_type": "execute_result"
    },
    {
     "data": {
      "image/png": "[encoded data removed]",
      "text/plain": [
       "<Figure size 640x480 with 1 Axes>"
      ]
     },
     "metadata": {},
     "output_type": "display_data"
    }
   ],
   "source": [
    "sns.barplot(x=df['Order type'],y=df['Trade_Price_$'],hue=df['Exchange'])"
   ]
  },
  {
   "cell_type": "code",
   "execution_count": 64,
   "id": "f05d093c",
   "metadata": {},
   "outputs": [
    {
     "data": {
      "image/png": "[encoded data removed]",
      "text/plain": [
       "<Figure size 640x480 with 1 Axes>"
      ]
     },
     "metadata": {},
     "output_type": "display_data"
    }
   ],
   "source": [
    "sns.barplot(x=df['Stock Name'],y=df['Trade_Price_$'],hue=df['Order type'])\n",
    "plt.show()"
   ]
  },
  {
   "cell_type": "code",
   "execution_count": 65,
   "id": "8c91aeb1",
   "metadata": {},
   "outputs": [],
   "source": [
    "dummies=pd.get_dummies(df_categorical,dtype='int',drop_first=True)"
   ]
  },
  {
   "cell_type": "code",
   "execution_count": 66,
   "id": "00bc0219",
   "metadata": {},
   "outputs": [
    {
     "name": "stdout",
     "output_type": "stream",
     "text": [
      "the shape of the data is (10000, 5)\n"
     ]
    },
    {
     "data": {
      "text/html": [
       "<div>\n",
       "<style scoped>\n",
       "    .dataframe tbody tr th:only-of-type {\n",
       "        vertical-align: middle;\n",
       "    }\n",
       "\n",
       "    .dataframe tbody tr th {\n",
       "        vertical-align: top;\n",
       "    }\n",
       "\n",
       "    .dataframe thead th {\n",
       "        text-align: right;\n",
       "    }\n",
       "</style>\n",
       "<table border=\"1\" class=\"dataframe\">\n",
       "  <thead>\n",
       "    <tr style=\"text-align: right;\">\n",
       "      <th></th>\n",
       "      <th>Stock Name_Caterpillar Inc.</th>\n",
       "      <th>Stock Name_JP Morgan Chase &amp; Co.</th>\n",
       "      <th>Trade Direction_SELL</th>\n",
       "      <th>Exchange_NYSE</th>\n",
       "      <th>Order type_MKT</th>\n",
       "    </tr>\n",
       "  </thead>\n",
       "  <tbody>\n",
       "    <tr>\n",
       "      <th>0</th>\n",
       "      <td>1</td>\n",
       "      <td>0</td>\n",
       "      <td>1</td>\n",
       "      <td>1</td>\n",
       "      <td>0</td>\n",
       "    </tr>\n",
       "    <tr>\n",
       "      <th>1</th>\n",
       "      <td>0</td>\n",
       "      <td>0</td>\n",
       "      <td>0</td>\n",
       "      <td>0</td>\n",
       "      <td>1</td>\n",
       "    </tr>\n",
       "    <tr>\n",
       "      <th>2</th>\n",
       "      <td>1</td>\n",
       "      <td>0</td>\n",
       "      <td>0</td>\n",
       "      <td>1</td>\n",
       "      <td>0</td>\n",
       "    </tr>\n",
       "    <tr>\n",
       "      <th>3</th>\n",
       "      <td>0</td>\n",
       "      <td>0</td>\n",
       "      <td>0</td>\n",
       "      <td>0</td>\n",
       "      <td>1</td>\n",
       "    </tr>\n",
       "    <tr>\n",
       "      <th>4</th>\n",
       "      <td>0</td>\n",
       "      <td>0</td>\n",
       "      <td>1</td>\n",
       "      <td>0</td>\n",
       "      <td>1</td>\n",
       "    </tr>\n",
       "  </tbody>\n",
       "</table>\n",
       "</div>"
      ],
      "text/plain": [
       "   Stock Name_Caterpillar Inc.  Stock Name_JP Morgan Chase & Co.  Trade Direction_SELL  Exchange_NYSE  Order type_MKT\n",
       "0                            1                                 0                     1              1               0\n",
       "1                            0                                 0                     0              0               1\n",
       "2                            1                                 0                     0              1               0\n",
       "3                            0                                 0                     0              0               1\n",
       "4                            0                                 0                     1              0               1"
      ]
     },
     "execution_count": 66,
     "metadata": {},
     "output_type": "execute_result"
    }
   ],
   "source": [
    "print(f'the shape of the data is {dummies.shape}')\n",
    "dummies.head()"
   ]
  },
  {
   "cell_type": "code",
   "execution_count": 67,
   "id": "70e0e4a7",
   "metadata": {},
   "outputs": [],
   "source": [
    "from sklearn.preprocessing import MinMaxScaler"
   ]
  },
  {
   "cell_type": "code",
   "execution_count": 68,
   "id": "528b13ef",
   "metadata": {},
   "outputs": [],
   "source": [
    "# scaler=MinMaxScaler()"
   ]
  },
  {
   "cell_type": "code",
   "execution_count": 69,
   "id": "ab652c33",
   "metadata": {},
   "outputs": [],
   "source": [
    "# df_numerical=pd.DataFrame(scaler.fit_transform(df_numerical),columns=df_numerical.columns)"
   ]
  },
  {
   "cell_type": "code",
   "execution_count": 70,
   "id": "073e5919",
   "metadata": {},
   "outputs": [],
   "source": [
    "# df_numerical.head(3)"
   ]
  },
  {
   "cell_type": "code",
   "execution_count": 71,
   "id": "a9bc4095",
   "metadata": {},
   "outputs": [],
   "source": [
    "new_df=pd.concat([dummies,df_numerical],axis=1)"
   ]
  },
  {
   "cell_type": "code",
   "execution_count": 72,
   "id": "8ec211af",
   "metadata": {},
   "outputs": [
    {
     "data": {
      "text/html": [
       "<div>\n",
       "<style scoped>\n",
       "    .dataframe tbody tr th:only-of-type {\n",
       "        vertical-align: middle;\n",
       "    }\n",
       "\n",
       "    .dataframe tbody tr th {\n",
       "        vertical-align: top;\n",
       "    }\n",
       "\n",
       "    .dataframe thead th {\n",
       "        text-align: right;\n",
       "    }\n",
       "</style>\n",
       "<table border=\"1\" class=\"dataframe\">\n",
       "  <thead>\n",
       "    <tr style=\"text-align: right;\">\n",
       "      <th></th>\n",
       "      <th>Stock Name_Caterpillar Inc.</th>\n",
       "      <th>Stock Name_JP Morgan Chase &amp; Co.</th>\n",
       "      <th>Trade Direction_SELL</th>\n",
       "      <th>Exchange_NYSE</th>\n",
       "      <th>Order type_MKT</th>\n",
       "      <th>Trade Size</th>\n",
       "      <th>Trade_year</th>\n",
       "      <th>Trade_hour</th>\n",
       "      <th>Trade_min</th>\n",
       "      <th>Time_execution_ms</th>\n",
       "      <th>Trade_Price_$</th>\n",
       "    </tr>\n",
       "  </thead>\n",
       "  <tbody>\n",
       "    <tr>\n",
       "      <th>0</th>\n",
       "      <td>1</td>\n",
       "      <td>0</td>\n",
       "      <td>1</td>\n",
       "      <td>1</td>\n",
       "      <td>0</td>\n",
       "      <td>745</td>\n",
       "      <td>2024</td>\n",
       "      <td>10</td>\n",
       "      <td>12</td>\n",
       "      <td>120</td>\n",
       "      <td>170.26</td>\n",
       "    </tr>\n",
       "    <tr>\n",
       "      <th>1</th>\n",
       "      <td>0</td>\n",
       "      <td>0</td>\n",
       "      <td>0</td>\n",
       "      <td>0</td>\n",
       "      <td>1</td>\n",
       "      <td>523</td>\n",
       "      <td>2023</td>\n",
       "      <td>12</td>\n",
       "      <td>3</td>\n",
       "      <td>397</td>\n",
       "      <td>174.87</td>\n",
       "    </tr>\n",
       "    <tr>\n",
       "      <th>2</th>\n",
       "      <td>1</td>\n",
       "      <td>0</td>\n",
       "      <td>0</td>\n",
       "      <td>1</td>\n",
       "      <td>0</td>\n",
       "      <td>676</td>\n",
       "      <td>2024</td>\n",
       "      <td>9</td>\n",
       "      <td>34</td>\n",
       "      <td>632</td>\n",
       "      <td>230.25</td>\n",
       "    </tr>\n",
       "    <tr>\n",
       "      <th>3</th>\n",
       "      <td>0</td>\n",
       "      <td>0</td>\n",
       "      <td>0</td>\n",
       "      <td>0</td>\n",
       "      <td>1</td>\n",
       "      <td>131</td>\n",
       "      <td>2024</td>\n",
       "      <td>13</td>\n",
       "      <td>1</td>\n",
       "      <td>498</td>\n",
       "      <td>154.16</td>\n",
       "    </tr>\n",
       "    <tr>\n",
       "      <th>4</th>\n",
       "      <td>0</td>\n",
       "      <td>0</td>\n",
       "      <td>1</td>\n",
       "      <td>0</td>\n",
       "      <td>1</td>\n",
       "      <td>630</td>\n",
       "      <td>2024</td>\n",
       "      <td>15</td>\n",
       "      <td>34</td>\n",
       "      <td>224</td>\n",
       "      <td>188.00</td>\n",
       "    </tr>\n",
       "    <tr>\n",
       "      <th>...</th>\n",
       "      <td>...</td>\n",
       "      <td>...</td>\n",
       "      <td>...</td>\n",
       "      <td>...</td>\n",
       "      <td>...</td>\n",
       "      <td>...</td>\n",
       "      <td>...</td>\n",
       "      <td>...</td>\n",
       "      <td>...</td>\n",
       "      <td>...</td>\n",
       "      <td>...</td>\n",
       "    </tr>\n",
       "    <tr>\n",
       "      <th>9995</th>\n",
       "      <td>0</td>\n",
       "      <td>1</td>\n",
       "      <td>1</td>\n",
       "      <td>1</td>\n",
       "      <td>1</td>\n",
       "      <td>772</td>\n",
       "      <td>2023</td>\n",
       "      <td>14</td>\n",
       "      <td>30</td>\n",
       "      <td>714</td>\n",
       "      <td>125.71</td>\n",
       "    </tr>\n",
       "    <tr>\n",
       "      <th>9996</th>\n",
       "      <td>0</td>\n",
       "      <td>0</td>\n",
       "      <td>0</td>\n",
       "      <td>0</td>\n",
       "      <td>1</td>\n",
       "      <td>15</td>\n",
       "      <td>2023</td>\n",
       "      <td>10</td>\n",
       "      <td>40</td>\n",
       "      <td>887</td>\n",
       "      <td>147.85</td>\n",
       "    </tr>\n",
       "    <tr>\n",
       "      <th>9997</th>\n",
       "      <td>1</td>\n",
       "      <td>0</td>\n",
       "      <td>0</td>\n",
       "      <td>1</td>\n",
       "      <td>1</td>\n",
       "      <td>520</td>\n",
       "      <td>2024</td>\n",
       "      <td>14</td>\n",
       "      <td>48</td>\n",
       "      <td>221</td>\n",
       "      <td>204.14</td>\n",
       "    </tr>\n",
       "    <tr>\n",
       "      <th>9998</th>\n",
       "      <td>1</td>\n",
       "      <td>0</td>\n",
       "      <td>1</td>\n",
       "      <td>1</td>\n",
       "      <td>1</td>\n",
       "      <td>64</td>\n",
       "      <td>2023</td>\n",
       "      <td>10</td>\n",
       "      <td>10</td>\n",
       "      <td>844</td>\n",
       "      <td>192.22</td>\n",
       "    </tr>\n",
       "    <tr>\n",
       "      <th>9999</th>\n",
       "      <td>0</td>\n",
       "      <td>1</td>\n",
       "      <td>0</td>\n",
       "      <td>1</td>\n",
       "      <td>1</td>\n",
       "      <td>455</td>\n",
       "      <td>2024</td>\n",
       "      <td>9</td>\n",
       "      <td>24</td>\n",
       "      <td>574</td>\n",
       "      <td>158.85</td>\n",
       "    </tr>\n",
       "  </tbody>\n",
       "</table>\n",
       "<p>10000 rows × 11 columns</p>\n",
       "</div>"
      ],
      "text/plain": [
       "      Stock Name_Caterpillar Inc.  Stock Name_JP Morgan Chase & Co.  Trade Direction_SELL  Exchange_NYSE  Order type_MKT  Trade Size  Trade_year  Trade_hour  Trade_min  Time_execution_ms  Trade_Price_$\n",
       "0                               1                                 0                     1              1               0         745        2024          10         12                120         170.26\n",
       "1                               0                                 0                     0              0               1         523        2023          12          3                397         174.87\n",
       "2                               1                                 0                     0              1               0         676        2024           9         34                632         230.25\n",
       "3                               0                                 0                     0              0               1         131        2024          13          1                498         154.16\n",
       "4                               0                                 0                     1              0               1         630        2024          15         34                224         188.00\n",
       "...                           ...                               ...                   ...            ...             ...         ...         ...         ...        ...                ...            ...\n",
       "9995                            0                                 1                     1              1               1         772        2023          14         30                714         125.71\n",
       "9996                            0                                 0                     0              0               1          15        2023          10         40                887         147.85\n",
       "9997                            1                                 0                     0              1               1         520        2024          14         48                221         204.14\n",
       "9998                            1                                 0                     1              1               1          64        2023          10         10                844         192.22\n",
       "9999                            0                                 1                     0              1               1         455        2024           9         24                574         158.85\n",
       "\n",
       "[10000 rows x 11 columns]"
      ]
     },
     "execution_count": 72,
     "metadata": {},
     "output_type": "execute_result"
    }
   ],
   "source": [
    "new_df"
   ]
  },
  {
   "cell_type": "code",
   "execution_count": 73,
   "id": "0b4c9bef",
   "metadata": {},
   "outputs": [
    {
     "name": "stdout",
     "output_type": "stream",
     "text": [
      "WARNING:tensorflow:From C:\\ProgramData\\anaconda3\\Lib\\site-packages\\keras\\src\\losses.py:2976: The name tf.losses.sparse_softmax_cross_entropy is deprecated. Please use tf.compat.v1.losses.sparse_softmax_cross_entropy instead.\n",
      "\n"
     ]
    }
   ],
   "source": [
    "from sklearn.model_selection import train_test_split\n",
    "import tensorflow as tf\n",
    "from sklearn.preprocessing import StandardScaler"
   ]
  },
  {
   "cell_type": "code",
   "execution_count": 74,
   "id": "34cd6abf",
   "metadata": {},
   "outputs": [],
   "source": [
    "# Separate features and target variable\n",
    "X = new_df.drop(columns=['Trade_Price_$'])\n",
    "y = new_df['Trade_Price_$']\n",
    "\n",
    "\n",
    "# Split data into training and validation sets\n",
    "X_train, X_test, y_train, y_test = train_test_split(X, y, test_size=0.2, random_state=42)\n",
    "scaler = StandardScaler()\n",
    "X_train = scaler.fit_transform(X_train)\n",
    "X_test = scaler.transform(X_test)"
   ]
  },
  {
   "cell_type": "code",
   "execution_count": 75,
   "id": "7667e6f4",
   "metadata": {
    "scrolled": true
   },
   "outputs": [
    {
     "data": {
      "text/plain": [
       "10"
      ]
     },
     "execution_count": 75,
     "metadata": {},
     "output_type": "execute_result"
    }
   ],
   "source": [
    "X_test.shape[1]"
   ]
  },
  {
   "cell_type": "code",
   "execution_count": 76,
   "id": "5cd0a8f5",
   "metadata": {},
   "outputs": [
    {
     "name": "stdout",
     "output_type": "stream",
     "text": [
      "WARNING:tensorflow:From C:\\ProgramData\\anaconda3\\Lib\\site-packages\\keras\\src\\backend.py:873: The name tf.get_default_graph is deprecated. Please use tf.compat.v1.get_default_graph instead.\n",
      "\n"
     ]
    }
   ],
   "source": [
    "model1=tf.keras.Sequential([\n",
    "    tf.keras.layers.Dense(64,activation='relu',input_dim=X_train.shape[1]),\n",
    "    tf.keras.layers.Dense(32,activation='relu'),\n",
    "    tf.keras.layers.Dense(1)])\n",
    "\n"
   ]
  },
  {
   "cell_type": "code",
   "execution_count": 77,
   "id": "476f3020",
   "metadata": {},
   "outputs": [],
   "source": [
    "model1.compile(optimizer=tf.keras.optimizers.Adam(),\n",
    "               loss=['mse'],\n",
    "              metrics=['mae'])"
   ]
  },
  {
   "cell_type": "code",
   "execution_count": 78,
   "id": "5d946952",
   "metadata": {
    "scrolled": false
   },
   "outputs": [
    {
     "name": "stdout",
     "output_type": "stream",
     "text": [
      "Epoch 1/100\n",
      "WARNING:tensorflow:From C:\\ProgramData\\anaconda3\\Lib\\site-packages\\keras\\src\\utils\\tf_utils.py:492: The name tf.ragged.RaggedTensorValue is deprecated. Please use tf.compat.v1.ragged.RaggedTensorValue instead.\n",
      "\n",
      "WARNING:tensorflow:From C:\\ProgramData\\anaconda3\\Lib\\site-packages\\keras\\src\\engine\\base_layer_utils.py:384: The name tf.executing_eagerly_outside_functions is deprecated. Please use tf.compat.v1.executing_eagerly_outside_functions instead.\n",
      "\n",
      "250/250 [==============================] - 2s 3ms/step - loss: 17750.9355 - mae: 122.0648 - val_loss: 1557.9003 - val_mae: 31.4818\n",
      "Epoch 2/100\n",
      "250/250 [==============================] - 0s 2ms/step - loss: 741.5416 - mae: 21.9766 - val_loss: 696.2230 - val_mae: 20.8488\n",
      "Epoch 3/100\n",
      "250/250 [==============================] - 0s 2ms/step - loss: 612.2542 - mae: 20.3641 - val_loss: 628.7672 - val_mae: 20.3152\n",
      "Epoch 4/100\n",
      "250/250 [==============================] - 0s 2ms/step - loss: 581.0204 - mae: 20.0055 - val_loss: 591.3517 - val_mae: 19.9860\n",
      "Epoch 5/100\n",
      "250/250 [==============================] - 0s 2ms/step - loss: 563.2782 - mae: 19.7799 - val_loss: 577.0490 - val_mae: 19.8511\n",
      "Epoch 6/100\n",
      "250/250 [==============================] - 0s 2ms/step - loss: 552.1377 - mae: 19.6539 - val_loss: 557.7008 - val_mae: 19.6509\n",
      "Epoch 7/100\n",
      "250/250 [==============================] - 0s 2ms/step - loss: 544.0499 - mae: 19.5340 - val_loss: 553.4150 - val_mae: 19.6173\n",
      "Epoch 8/100\n",
      "250/250 [==============================] - 0s 2ms/step - loss: 539.0275 - mae: 19.4521 - val_loss: 550.7292 - val_mae: 19.5954\n",
      "Epoch 9/100\n",
      "250/250 [==============================] - 0s 2ms/step - loss: 533.8013 - mae: 19.3770 - val_loss: 537.3073 - val_mae: 19.3602\n",
      "Epoch 10/100\n",
      "250/250 [==============================] - 0s 2ms/step - loss: 530.4679 - mae: 19.3434 - val_loss: 537.3702 - val_mae: 19.4119\n",
      "Epoch 11/100\n",
      "250/250 [==============================] - 0s 2ms/step - loss: 527.1340 - mae: 19.2857 - val_loss: 535.2991 - val_mae: 19.3866\n",
      "Epoch 12/100\n",
      "250/250 [==============================] - 0s 2ms/step - loss: 525.8196 - mae: 19.2614 - val_loss: 530.9512 - val_mae: 19.2984\n",
      "Epoch 13/100\n",
      "250/250 [==============================] - 0s 2ms/step - loss: 523.9964 - mae: 19.2614 - val_loss: 532.5106 - val_mae: 19.3655\n",
      "Epoch 14/100\n",
      "250/250 [==============================] - 1s 2ms/step - loss: 523.1065 - mae: 19.2394 - val_loss: 529.7490 - val_mae: 19.3155\n",
      "Epoch 15/100\n",
      "250/250 [==============================] - 0s 2ms/step - loss: 521.3149 - mae: 19.1998 - val_loss: 525.1401 - val_mae: 19.2572\n",
      "Epoch 16/100\n",
      "250/250 [==============================] - 0s 2ms/step - loss: 521.2791 - mae: 19.2048 - val_loss: 525.7228 - val_mae: 19.2429\n",
      "Epoch 17/100\n",
      "250/250 [==============================] - 0s 2ms/step - loss: 518.8203 - mae: 19.1669 - val_loss: 534.1929 - val_mae: 19.3959\n",
      "Epoch 18/100\n",
      "250/250 [==============================] - 0s 2ms/step - loss: 518.7626 - mae: 19.1797 - val_loss: 532.7914 - val_mae: 19.4052\n",
      "Epoch 19/100\n",
      "250/250 [==============================] - 0s 2ms/step - loss: 515.7744 - mae: 19.0783 - val_loss: 530.5803 - val_mae: 19.3393\n",
      "Epoch 20/100\n",
      "250/250 [==============================] - 0s 2ms/step - loss: 518.0728 - mae: 19.1541 - val_loss: 524.9115 - val_mae: 19.2410\n",
      "Epoch 21/100\n",
      "250/250 [==============================] - 0s 2ms/step - loss: 515.5821 - mae: 19.1091 - val_loss: 524.8423 - val_mae: 19.2750\n",
      "Epoch 22/100\n",
      "250/250 [==============================] - 0s 2ms/step - loss: 517.1298 - mae: 19.1409 - val_loss: 522.6483 - val_mae: 19.2330\n",
      "Epoch 23/100\n",
      "250/250 [==============================] - 0s 2ms/step - loss: 514.0229 - mae: 19.0958 - val_loss: 526.1318 - val_mae: 19.2535\n",
      "Epoch 24/100\n",
      "250/250 [==============================] - 0s 2ms/step - loss: 514.7133 - mae: 19.0835 - val_loss: 524.5469 - val_mae: 19.2376\n",
      "Epoch 25/100\n",
      "250/250 [==============================] - 0s 2ms/step - loss: 515.6951 - mae: 19.1282 - val_loss: 522.7131 - val_mae: 19.2286\n",
      "Epoch 26/100\n",
      "250/250 [==============================] - 0s 2ms/step - loss: 514.3118 - mae: 19.0877 - val_loss: 523.5815 - val_mae: 19.2127\n",
      "Epoch 27/100\n",
      "250/250 [==============================] - 0s 2ms/step - loss: 515.1075 - mae: 19.1382 - val_loss: 525.3672 - val_mae: 19.2775\n",
      "Epoch 28/100\n",
      "250/250 [==============================] - 0s 2ms/step - loss: 512.8544 - mae: 19.0549 - val_loss: 529.6629 - val_mae: 19.3368\n",
      "Epoch 29/100\n",
      "250/250 [==============================] - 0s 2ms/step - loss: 513.1833 - mae: 19.0785 - val_loss: 521.9406 - val_mae: 19.1888\n",
      "Epoch 30/100\n",
      "250/250 [==============================] - 0s 2ms/step - loss: 512.5005 - mae: 19.0650 - val_loss: 523.0086 - val_mae: 19.2011\n",
      "Epoch 31/100\n",
      "250/250 [==============================] - 0s 2ms/step - loss: 513.1662 - mae: 19.0846 - val_loss: 524.5029 - val_mae: 19.2412\n",
      "Epoch 32/100\n",
      "250/250 [==============================] - 0s 2ms/step - loss: 513.7616 - mae: 19.0891 - val_loss: 524.4109 - val_mae: 19.2382\n",
      "Epoch 33/100\n",
      "250/250 [==============================] - 0s 2ms/step - loss: 513.0958 - mae: 19.0904 - val_loss: 523.6489 - val_mae: 19.2409\n",
      "Epoch 34/100\n",
      "250/250 [==============================] - 0s 2ms/step - loss: 515.0992 - mae: 19.1375 - val_loss: 521.6142 - val_mae: 19.2195\n",
      "Epoch 35/100\n",
      "250/250 [==============================] - 1s 2ms/step - loss: 510.9643 - mae: 19.0542 - val_loss: 526.4934 - val_mae: 19.2766\n",
      "Epoch 36/100\n",
      "250/250 [==============================] - 1s 2ms/step - loss: 511.8915 - mae: 19.0455 - val_loss: 523.0089 - val_mae: 19.2053\n",
      "Epoch 37/100\n",
      "250/250 [==============================] - 0s 2ms/step - loss: 511.6174 - mae: 19.0612 - val_loss: 529.3805 - val_mae: 19.3595\n",
      "Epoch 38/100\n",
      "250/250 [==============================] - 0s 2ms/step - loss: 512.0551 - mae: 19.0987 - val_loss: 530.0289 - val_mae: 19.3381\n",
      "Epoch 39/100\n",
      "250/250 [==============================] - 0s 2ms/step - loss: 512.5656 - mae: 19.0697 - val_loss: 524.5861 - val_mae: 19.2694\n",
      "Epoch 40/100\n",
      "250/250 [==============================] - 0s 2ms/step - loss: 511.2870 - mae: 19.0533 - val_loss: 521.5081 - val_mae: 19.1956\n",
      "Epoch 41/100\n",
      "250/250 [==============================] - 1s 2ms/step - loss: 510.3960 - mae: 19.0254 - val_loss: 530.2302 - val_mae: 19.3596\n",
      "Epoch 42/100\n",
      "250/250 [==============================] - 0s 2ms/step - loss: 512.6176 - mae: 19.0775 - val_loss: 522.0593 - val_mae: 19.2390\n",
      "Epoch 43/100\n",
      "250/250 [==============================] - 1s 2ms/step - loss: 511.3202 - mae: 19.0584 - val_loss: 522.2758 - val_mae: 19.2073\n",
      "Epoch 44/100\n",
      "250/250 [==============================] - 1s 2ms/step - loss: 510.3354 - mae: 19.0373 - val_loss: 523.9261 - val_mae: 19.2225\n",
      "Epoch 45/100\n",
      "250/250 [==============================] - 1s 2ms/step - loss: 509.3817 - mae: 19.0082 - val_loss: 523.5486 - val_mae: 19.2405\n",
      "Epoch 46/100\n",
      "250/250 [==============================] - 1s 2ms/step - loss: 510.2484 - mae: 19.0392 - val_loss: 527.0693 - val_mae: 19.2606\n",
      "Epoch 47/100\n",
      "250/250 [==============================] - 0s 2ms/step - loss: 512.0945 - mae: 19.0677 - val_loss: 528.2965 - val_mae: 19.3346\n",
      "Epoch 48/100\n",
      "250/250 [==============================] - 0s 2ms/step - loss: 511.3247 - mae: 19.0778 - val_loss: 534.3882 - val_mae: 19.4153\n",
      "Epoch 49/100\n",
      "250/250 [==============================] - 1s 2ms/step - loss: 510.6442 - mae: 19.0499 - val_loss: 523.0806 - val_mae: 19.2323\n",
      "Epoch 50/100\n",
      "250/250 [==============================] - 0s 2ms/step - loss: 511.1516 - mae: 19.0475 - val_loss: 529.7029 - val_mae: 19.3271\n",
      "Epoch 51/100\n",
      "250/250 [==============================] - 1s 2ms/step - loss: 510.9506 - mae: 19.0462 - val_loss: 523.3522 - val_mae: 19.2365\n",
      "Epoch 52/100\n",
      "250/250 [==============================] - 1s 2ms/step - loss: 509.5147 - mae: 19.0038 - val_loss: 526.7307 - val_mae: 19.3055\n",
      "Epoch 53/100\n",
      "250/250 [==============================] - 1s 3ms/step - loss: 509.7325 - mae: 19.0354 - val_loss: 526.4682 - val_mae: 19.3193\n",
      "Epoch 54/100\n",
      "250/250 [==============================] - 1s 3ms/step - loss: 509.4955 - mae: 19.0284 - val_loss: 519.3444 - val_mae: 19.1757\n",
      "Epoch 55/100\n",
      "250/250 [==============================] - 1s 3ms/step - loss: 510.3344 - mae: 19.0281 - val_loss: 526.5566 - val_mae: 19.3068\n",
      "Epoch 56/100\n"
     ]
    },
    {
     "name": "stdout",
     "output_type": "stream",
     "text": [
      "250/250 [==============================] - 1s 3ms/step - loss: 510.7392 - mae: 19.0396 - val_loss: 522.3992 - val_mae: 19.1708\n",
      "Epoch 57/100\n",
      "250/250 [==============================] - 1s 2ms/step - loss: 510.0128 - mae: 19.0366 - val_loss: 532.6544 - val_mae: 19.3976\n",
      "Epoch 58/100\n",
      "250/250 [==============================] - 1s 2ms/step - loss: 511.6587 - mae: 19.0681 - val_loss: 521.7717 - val_mae: 19.1957\n",
      "Epoch 59/100\n",
      "250/250 [==============================] - 1s 3ms/step - loss: 509.7145 - mae: 19.0279 - val_loss: 525.5307 - val_mae: 19.2949\n",
      "Epoch 60/100\n",
      "250/250 [==============================] - 1s 2ms/step - loss: 511.0190 - mae: 19.0586 - val_loss: 526.2869 - val_mae: 19.2751\n",
      "Epoch 61/100\n",
      "250/250 [==============================] - 0s 2ms/step - loss: 510.5608 - mae: 19.0263 - val_loss: 527.0756 - val_mae: 19.3236\n",
      "Epoch 62/100\n",
      "250/250 [==============================] - 0s 2ms/step - loss: 509.4213 - mae: 19.0198 - val_loss: 522.8875 - val_mae: 19.2405\n",
      "Epoch 63/100\n",
      "250/250 [==============================] - 0s 2ms/step - loss: 509.6208 - mae: 19.0143 - val_loss: 520.7365 - val_mae: 19.1673\n",
      "Epoch 64/100\n",
      "250/250 [==============================] - 0s 2ms/step - loss: 509.0602 - mae: 18.9944 - val_loss: 526.9818 - val_mae: 19.3298\n",
      "Epoch 65/100\n",
      "250/250 [==============================] - 1s 2ms/step - loss: 508.5163 - mae: 19.0086 - val_loss: 526.4849 - val_mae: 19.2787\n",
      "Epoch 66/100\n",
      "250/250 [==============================] - 1s 2ms/step - loss: 509.1722 - mae: 19.0248 - val_loss: 521.5743 - val_mae: 19.2204\n",
      "Epoch 67/100\n",
      "250/250 [==============================] - 1s 2ms/step - loss: 509.6131 - mae: 19.0178 - val_loss: 525.2777 - val_mae: 19.2757\n",
      "Epoch 68/100\n",
      "250/250 [==============================] - 0s 2ms/step - loss: 508.9637 - mae: 18.9996 - val_loss: 521.9869 - val_mae: 19.2422\n",
      "Epoch 69/100\n",
      "250/250 [==============================] - 1s 2ms/step - loss: 508.8010 - mae: 19.0133 - val_loss: 522.8525 - val_mae: 19.1862\n",
      "Epoch 70/100\n",
      "250/250 [==============================] - 1s 2ms/step - loss: 509.3814 - mae: 18.9949 - val_loss: 527.1077 - val_mae: 19.2959\n",
      "Epoch 71/100\n",
      "250/250 [==============================] - 1s 2ms/step - loss: 508.4387 - mae: 18.9998 - val_loss: 522.6959 - val_mae: 19.2176\n",
      "Epoch 72/100\n",
      "250/250 [==============================] - 1s 3ms/step - loss: 509.2097 - mae: 19.0309 - val_loss: 529.8467 - val_mae: 19.3759\n",
      "Epoch 73/100\n",
      "250/250 [==============================] - 1s 2ms/step - loss: 508.4904 - mae: 19.0057 - val_loss: 521.7120 - val_mae: 19.1981\n",
      "Epoch 74/100\n",
      "250/250 [==============================] - 1s 2ms/step - loss: 507.7453 - mae: 18.9720 - val_loss: 521.7485 - val_mae: 19.2136\n",
      "Epoch 75/100\n",
      "250/250 [==============================] - 1s 2ms/step - loss: 508.9282 - mae: 19.0067 - val_loss: 522.3599 - val_mae: 19.1803\n",
      "Epoch 76/100\n",
      "250/250 [==============================] - 1s 3ms/step - loss: 509.2779 - mae: 19.0032 - val_loss: 522.6110 - val_mae: 19.2140\n",
      "Epoch 77/100\n",
      "250/250 [==============================] - 1s 3ms/step - loss: 507.2498 - mae: 19.0117 - val_loss: 524.9622 - val_mae: 19.3053\n",
      "Epoch 78/100\n",
      "250/250 [==============================] - 1s 2ms/step - loss: 508.0183 - mae: 18.9730 - val_loss: 531.0924 - val_mae: 19.3480\n",
      "Epoch 79/100\n",
      "250/250 [==============================] - 1s 2ms/step - loss: 507.7990 - mae: 18.9718 - val_loss: 523.6196 - val_mae: 19.2472\n",
      "Epoch 80/100\n",
      "250/250 [==============================] - 0s 2ms/step - loss: 509.1415 - mae: 19.0054 - val_loss: 528.2555 - val_mae: 19.3344\n",
      "Epoch 81/100\n",
      "250/250 [==============================] - 0s 2ms/step - loss: 508.1104 - mae: 18.9941 - val_loss: 525.4271 - val_mae: 19.2650\n",
      "Epoch 82/100\n",
      "250/250 [==============================] - 0s 2ms/step - loss: 506.9516 - mae: 18.9805 - val_loss: 527.3190 - val_mae: 19.3408\n",
      "Epoch 83/100\n",
      "250/250 [==============================] - 1s 2ms/step - loss: 506.6580 - mae: 18.9510 - val_loss: 522.6724 - val_mae: 19.1828\n",
      "Epoch 84/100\n",
      "250/250 [==============================] - 1s 2ms/step - loss: 506.4944 - mae: 18.9728 - val_loss: 523.4813 - val_mae: 19.2137\n",
      "Epoch 85/100\n",
      "250/250 [==============================] - 0s 2ms/step - loss: 506.7381 - mae: 18.9934 - val_loss: 532.0435 - val_mae: 19.3676\n",
      "Epoch 86/100\n",
      "250/250 [==============================] - 1s 2ms/step - loss: 507.5030 - mae: 18.9894 - val_loss: 525.7849 - val_mae: 19.3093\n",
      "Epoch 87/100\n",
      "250/250 [==============================] - 0s 2ms/step - loss: 507.0468 - mae: 18.9821 - val_loss: 521.9402 - val_mae: 19.2353\n",
      "Epoch 88/100\n",
      "250/250 [==============================] - 1s 2ms/step - loss: 506.9245 - mae: 18.9676 - val_loss: 522.7270 - val_mae: 19.2381\n",
      "Epoch 89/100\n",
      "250/250 [==============================] - 1s 2ms/step - loss: 508.7140 - mae: 19.0065 - val_loss: 519.3218 - val_mae: 19.1782\n",
      "Epoch 90/100\n",
      "250/250 [==============================] - 1s 2ms/step - loss: 506.6156 - mae: 18.9449 - val_loss: 525.9454 - val_mae: 19.3142\n",
      "Epoch 91/100\n",
      "250/250 [==============================] - 1s 2ms/step - loss: 508.0693 - mae: 18.9805 - val_loss: 525.5391 - val_mae: 19.2942\n",
      "Epoch 92/100\n",
      "250/250 [==============================] - 1s 2ms/step - loss: 506.7648 - mae: 18.9627 - val_loss: 524.3271 - val_mae: 19.2420\n",
      "Epoch 93/100\n",
      "250/250 [==============================] - 1s 2ms/step - loss: 507.4323 - mae: 18.9819 - val_loss: 524.2178 - val_mae: 19.2934\n",
      "Epoch 94/100\n",
      "250/250 [==============================] - 1s 2ms/step - loss: 508.2902 - mae: 18.9760 - val_loss: 524.0049 - val_mae: 19.2702\n",
      "Epoch 95/100\n",
      "250/250 [==============================] - 1s 2ms/step - loss: 506.9645 - mae: 18.9629 - val_loss: 527.7078 - val_mae: 19.2833\n",
      "Epoch 96/100\n",
      "250/250 [==============================] - 1s 2ms/step - loss: 507.7859 - mae: 18.9906 - val_loss: 524.1347 - val_mae: 19.2289\n",
      "Epoch 97/100\n",
      "250/250 [==============================] - 1s 2ms/step - loss: 506.3896 - mae: 18.9780 - val_loss: 526.7108 - val_mae: 19.3130\n",
      "Epoch 98/100\n",
      "250/250 [==============================] - 1s 2ms/step - loss: 507.1757 - mae: 18.9665 - val_loss: 516.9442 - val_mae: 19.1369\n",
      "Epoch 99/100\n",
      "250/250 [==============================] - 1s 2ms/step - loss: 505.6495 - mae: 18.9516 - val_loss: 524.5516 - val_mae: 19.2446\n",
      "Epoch 100/100\n",
      "250/250 [==============================] - 1s 2ms/step - loss: 505.6640 - mae: 18.9530 - val_loss: 523.0782 - val_mae: 19.1745\n"
     ]
    }
   ],
   "source": [
    "history1=model1.fit(X_train, y_train, validation_data=(X_test, y_test), epochs=100, batch_size=32)"
   ]
  },
  {
   "cell_type": "code",
   "execution_count": 79,
   "id": "c37a808c",
   "metadata": {},
   "outputs": [
    {
     "data": {
      "image/png": "[encoded data removed]",
      "text/plain": [
       "<Figure size 2500x500 with 2 Axes>"
      ]
     },
     "metadata": {},
     "output_type": "display_data"
    }
   ],
   "source": [
    "# Plot the training history1\n",
    "plt.figure(figsize=(25, 5))\n",
    "\n",
    "# Plot Loss\n",
    "plt.subplot(1, 2, 1)\n",
    "plt.plot(history1.history['loss'], label='Training Loss')\n",
    "plt.plot(history1.history['val_loss'], label='Validation Loss')\n",
    "plt.xlabel('Epoch')\n",
    "plt.ylabel('Loss')\n",
    "plt.title('Training and Validation Loss')\n",
    "plt.legend()\n",
    "\n",
    "# Plot MAE\n",
    "plt.subplot(1, 2, 2)\n",
    "plt.plot(history1.history['mae'], label='Training MAE')\n",
    "plt.plot(history1.history['val_mae'], label='Validation MAE')\n",
    "plt.xlabel('Epoch')\n",
    "plt.ylabel('MAE')\n",
    "plt.title('Training and Validation MAE')\n",
    "plt.legend()\n",
    "\n",
    "plt.show()"
   ]
  },
  {
   "cell_type": "code",
   "execution_count": 80,
   "id": "fde3f3a5",
   "metadata": {},
   "outputs": [
    {
     "name": "stdout",
     "output_type": "stream",
     "text": [
      "63/63 [==============================] - 0s 1ms/step - loss: 523.0782 - mae: 19.1745\n"
     ]
    },
    {
     "data": {
      "text/plain": [
       "[523.0782470703125, 19.17445945739746]"
      ]
     },
     "execution_count": 80,
     "metadata": {},
     "output_type": "execute_result"
    }
   ],
   "source": [
    "model1.evaluate(X_test,y_test)"
   ]
  },
  {
   "cell_type": "code",
   "execution_count": 81,
   "id": "b758b0b5",
   "metadata": {},
   "outputs": [
    {
     "name": "stdout",
     "output_type": "stream",
     "text": [
      "250/250 [==============================] - 0s 1ms/step\n"
     ]
    },
    {
     "data": {
      "text/plain": [
       "array([[195.71724],\n",
       "       [129.3267 ],\n",
       "       [128.97289],\n",
       "       ...,\n",
       "       [166.35593],\n",
       "       [164.85963],\n",
       "       [198.93306]], dtype=float32)"
      ]
     },
     "execution_count": 81,
     "metadata": {},
     "output_type": "execute_result"
    }
   ],
   "source": [
    "model1.predict(X_train)"
   ]
  },
  {
   "cell_type": "code",
   "execution_count": 82,
   "id": "cf70b7c7",
   "metadata": {},
   "outputs": [],
   "source": [
    "from sklearn.metrics import r2_score"
   ]
  },
  {
   "cell_type": "code",
   "execution_count": 83,
   "id": "41b67f2f",
   "metadata": {},
   "outputs": [
    {
     "name": "stdout",
     "output_type": "stream",
     "text": [
      "63/63 [==============================] - 0s 1ms/step\n"
     ]
    },
    {
     "data": {
      "text/plain": [
       "0.2983008221225516"
      ]
     },
     "execution_count": 83,
     "metadata": {},
     "output_type": "execute_result"
    }
   ],
   "source": [
    "r2_score(model1.predict(X_test),y_test)\n"
   ]
  },
  {
   "cell_type": "code",
   "execution_count": 84,
   "id": "e716c996",
   "metadata": {},
   "outputs": [
    {
     "name": "stdout",
     "output_type": "stream",
     "text": [
      "250/250 [==============================] - 0s 1ms/step\n"
     ]
    },
    {
     "data": {
      "text/plain": [
       "0.33120992993403386"
      ]
     },
     "execution_count": 84,
     "metadata": {},
     "output_type": "execute_result"
    }
   ],
   "source": [
    "r2_score(model1.predict(X_train),y_train)\n"
   ]
  },
  {
   "cell_type": "code",
   "execution_count": 85,
   "id": "4cca15db",
   "metadata": {
    "scrolled": false
   },
   "outputs": [
    {
     "name": "stdout",
     "output_type": "stream",
     "text": [
      "Epoch 1/50\n",
      "250/250 [==============================] - 1s 2ms/step - loss: 506.3154 - mae: 18.9542 - val_loss: 524.0973 - val_mae: 19.2508\n",
      "Epoch 2/50\n",
      "250/250 [==============================] - 1s 2ms/step - loss: 505.6281 - mae: 18.9272 - val_loss: 524.0295 - val_mae: 19.2682\n",
      "Epoch 3/50\n",
      "250/250 [==============================] - 1s 2ms/step - loss: 507.4525 - mae: 18.9764 - val_loss: 527.8984 - val_mae: 19.3434\n",
      "Epoch 4/50\n",
      "250/250 [==============================] - 1s 2ms/step - loss: 505.8419 - mae: 18.9550 - val_loss: 535.8227 - val_mae: 19.4389\n",
      "Epoch 5/50\n",
      "250/250 [==============================] - 1s 2ms/step - loss: 505.5479 - mae: 18.9321 - val_loss: 523.0415 - val_mae: 19.2061\n",
      "Epoch 6/50\n",
      "250/250 [==============================] - 1s 2ms/step - loss: 506.3540 - mae: 18.9454 - val_loss: 528.4676 - val_mae: 19.3359\n",
      "Epoch 7/50\n",
      "250/250 [==============================] - 1s 3ms/step - loss: 506.3576 - mae: 18.9525 - val_loss: 533.6965 - val_mae: 19.4369\n",
      "Epoch 8/50\n",
      "250/250 [==============================] - 1s 2ms/step - loss: 506.0505 - mae: 18.9608 - val_loss: 520.2670 - val_mae: 19.1875\n",
      "Epoch 9/50\n",
      "250/250 [==============================] - 1s 2ms/step - loss: 505.4590 - mae: 18.9391 - val_loss: 528.3387 - val_mae: 19.3375\n",
      "Epoch 10/50\n",
      "250/250 [==============================] - 1s 2ms/step - loss: 505.6418 - mae: 18.9433 - val_loss: 523.1403 - val_mae: 19.2667\n",
      "Epoch 11/50\n",
      "250/250 [==============================] - 1s 2ms/step - loss: 507.1027 - mae: 18.9632 - val_loss: 525.1791 - val_mae: 19.2880\n",
      "Epoch 12/50\n",
      "250/250 [==============================] - 1s 2ms/step - loss: 505.4313 - mae: 18.9479 - val_loss: 523.0220 - val_mae: 19.2512\n",
      "Epoch 13/50\n",
      "250/250 [==============================] - 1s 2ms/step - loss: 505.5237 - mae: 18.9460 - val_loss: 520.8680 - val_mae: 19.1826\n",
      "Epoch 14/50\n",
      "250/250 [==============================] - 1s 2ms/step - loss: 505.6234 - mae: 18.9483 - val_loss: 523.5328 - val_mae: 19.2412\n",
      "Epoch 15/50\n",
      "250/250 [==============================] - 1s 3ms/step - loss: 506.3569 - mae: 18.9467 - val_loss: 520.8710 - val_mae: 19.1758\n",
      "Epoch 16/50\n",
      "250/250 [==============================] - 1s 2ms/step - loss: 505.9907 - mae: 18.9512 - val_loss: 526.6555 - val_mae: 19.3093\n",
      "Epoch 17/50\n",
      "250/250 [==============================] - 1s 2ms/step - loss: 505.7532 - mae: 18.9510 - val_loss: 528.4805 - val_mae: 19.2894\n",
      "Epoch 18/50\n",
      "250/250 [==============================] - 1s 2ms/step - loss: 505.6218 - mae: 18.9392 - val_loss: 522.2178 - val_mae: 19.1962\n"
     ]
    }
   ],
   "source": [
    "from tensorflow.keras.callbacks import EarlyStopping\n",
    "\n",
    "early_stopping = EarlyStopping(monitor='val_loss', patience=10, restore_best_weights=True)\n",
    "\n",
    "history1 = model1.fit(X_train, y_train, validation_data=(X_test, y_test), epochs=50, batch_size=32, callbacks=[early_stopping])\n"
   ]
  },
  {
   "cell_type": "markdown",
   "id": "3f5ea65d",
   "metadata": {},
   "source": [
    "### Model 2"
   ]
  },
  {
   "cell_type": "code",
   "execution_count": 86,
   "id": "6bca5941",
   "metadata": {},
   "outputs": [
    {
     "name": "stdout",
     "output_type": "stream",
     "text": [
      "Epoch 1/100\n",
      "250/250 [==============================] - 1s 3ms/step - loss: 12867.8105 - mae: 95.0772 - val_loss: 737.1142 - val_mae: 20.9560\n",
      "Epoch 2/100\n",
      "250/250 [==============================] - 1s 2ms/step - loss: 1215.2611 - mae: 27.8648 - val_loss: 635.4951 - val_mae: 20.3138\n",
      "Epoch 3/100\n",
      "250/250 [==============================] - 1s 2ms/step - loss: 1174.2604 - mae: 27.2331 - val_loss: 589.6713 - val_mae: 19.9708\n",
      "Epoch 4/100\n",
      "250/250 [==============================] - 1s 3ms/step - loss: 1146.3142 - mae: 26.9752 - val_loss: 561.3862 - val_mae: 19.7435\n",
      "Epoch 5/100\n",
      "250/250 [==============================] - 1s 3ms/step - loss: 1136.1202 - mae: 27.0192 - val_loss: 570.3341 - val_mae: 19.8339\n",
      "Epoch 6/100\n",
      "250/250 [==============================] - 1s 2ms/step - loss: 1132.3885 - mae: 26.7590 - val_loss: 541.5768 - val_mae: 19.4039\n",
      "Epoch 7/100\n",
      "250/250 [==============================] - 1s 3ms/step - loss: 1117.1716 - mae: 26.5446 - val_loss: 541.5326 - val_mae: 19.5217\n",
      "Epoch 8/100\n",
      "250/250 [==============================] - 1s 3ms/step - loss: 1104.8260 - mae: 26.4984 - val_loss: 534.0555 - val_mae: 19.3845\n",
      "Epoch 9/100\n",
      "250/250 [==============================] - 1s 2ms/step - loss: 1098.9102 - mae: 26.4251 - val_loss: 538.9553 - val_mae: 19.4332\n",
      "Epoch 10/100\n",
      "250/250 [==============================] - 1s 2ms/step - loss: 1137.0416 - mae: 27.0451 - val_loss: 552.7302 - val_mae: 19.6480\n",
      "Epoch 11/100\n",
      "250/250 [==============================] - 1s 2ms/step - loss: 1120.4291 - mae: 26.6831 - val_loss: 547.4097 - val_mae: 19.4044\n",
      "Epoch 12/100\n",
      "250/250 [==============================] - 1s 2ms/step - loss: 1106.5332 - mae: 26.4827 - val_loss: 526.6246 - val_mae: 19.2987\n",
      "Epoch 13/100\n",
      "250/250 [==============================] - 1s 2ms/step - loss: 1099.9508 - mae: 26.3683 - val_loss: 529.7615 - val_mae: 19.3323\n",
      "Epoch 14/100\n",
      "250/250 [==============================] - 1s 2ms/step - loss: 1112.6434 - mae: 26.6169 - val_loss: 524.3565 - val_mae: 19.1930\n",
      "Epoch 15/100\n",
      "250/250 [==============================] - 1s 2ms/step - loss: 1116.7039 - mae: 26.5790 - val_loss: 529.4757 - val_mae: 19.3327\n",
      "Epoch 16/100\n",
      "250/250 [==============================] - 1s 2ms/step - loss: 1062.9918 - mae: 26.0045 - val_loss: 534.1724 - val_mae: 19.3845\n",
      "Epoch 17/100\n",
      "250/250 [==============================] - 1s 2ms/step - loss: 1078.8180 - mae: 26.1930 - val_loss: 522.1182 - val_mae: 19.2317\n",
      "Epoch 18/100\n",
      "250/250 [==============================] - 1s 2ms/step - loss: 1085.9701 - mae: 26.2234 - val_loss: 554.4886 - val_mae: 19.4678\n",
      "Epoch 19/100\n",
      "250/250 [==============================] - 1s 2ms/step - loss: 1092.4841 - mae: 26.1894 - val_loss: 536.5386 - val_mae: 19.3241\n",
      "Epoch 20/100\n",
      "250/250 [==============================] - 1s 2ms/step - loss: 1072.8658 - mae: 26.1146 - val_loss: 523.9699 - val_mae: 19.2519\n",
      "Epoch 21/100\n",
      "250/250 [==============================] - 1s 2ms/step - loss: 1032.6222 - mae: 25.6166 - val_loss: 541.3238 - val_mae: 19.4704\n",
      "Epoch 22/100\n",
      "250/250 [==============================] - 1s 3ms/step - loss: 1061.0413 - mae: 26.0439 - val_loss: 528.0361 - val_mae: 19.3332\n",
      "Epoch 23/100\n",
      "250/250 [==============================] - 1s 2ms/step - loss: 1054.6178 - mae: 25.8554 - val_loss: 520.2526 - val_mae: 19.2136\n",
      "Epoch 24/100\n",
      "250/250 [==============================] - 1s 2ms/step - loss: 1050.2042 - mae: 25.8465 - val_loss: 527.6370 - val_mae: 19.2811\n",
      "Epoch 25/100\n",
      "250/250 [==============================] - 1s 2ms/step - loss: 1061.2997 - mae: 25.9019 - val_loss: 535.4546 - val_mae: 19.2736\n",
      "Epoch 26/100\n",
      "250/250 [==============================] - 1s 2ms/step - loss: 1036.5922 - mae: 25.6153 - val_loss: 524.0046 - val_mae: 19.1815\n",
      "Epoch 27/100\n",
      "250/250 [==============================] - 1s 2ms/step - loss: 1016.9215 - mae: 25.2890 - val_loss: 526.6697 - val_mae: 19.2311\n",
      "Epoch 28/100\n",
      "250/250 [==============================] - 1s 3ms/step - loss: 1022.2032 - mae: 25.5696 - val_loss: 530.6125 - val_mae: 19.2763\n",
      "Epoch 29/100\n",
      "250/250 [==============================] - 1s 3ms/step - loss: 1026.9990 - mae: 25.4917 - val_loss: 525.7773 - val_mae: 19.2669\n",
      "Epoch 30/100\n",
      "250/250 [==============================] - 1s 3ms/step - loss: 989.2155 - mae: 25.0500 - val_loss: 520.3131 - val_mae: 19.1916\n",
      "Epoch 31/100\n",
      "250/250 [==============================] - 1s 3ms/step - loss: 1001.3706 - mae: 25.2980 - val_loss: 529.4269 - val_mae: 19.2995\n",
      "Epoch 32/100\n",
      "250/250 [==============================] - 1s 2ms/step - loss: 1030.8221 - mae: 25.6723 - val_loss: 533.3130 - val_mae: 19.2810\n",
      "Epoch 33/100\n",
      "250/250 [==============================] - 1s 3ms/step - loss: 1046.3649 - mae: 25.7215 - val_loss: 544.8272 - val_mae: 19.4345\n",
      "63/63 [==============================] - 0s 3ms/step - loss: 520.2526 - mae: 19.2136\n",
      "Validation MAE: 19.213603973388672\n"
     ]
    }
   ],
   "source": [
    "from tensorflow.keras.layers import Dense, Dropout\n",
    "\n",
    "# Building a new mode2 architecture\n",
    "model2 = tf.keras.Sequential([\n",
    "    Dense(128, activation='relu', input_shape=(X_train.shape[1],)),\n",
    "    Dropout(0.3),\n",
    "    Dense(64, activation='relu'),\n",
    "    Dropout(0.3),\n",
    "    Dense(1)\n",
    "])\n",
    "\n",
    "# Compile the mode2\n",
    "model2.compile(optimizer=tf.keras.optimizers.Adam(), loss='mean_squared_error', metrics=['mae'])\n",
    "\n",
    "early_stopping=EarlyStopping(monitor='val_loss',patience=10,restore_best_weights=True)\n",
    "# Train the mode2 with early stopping\n",
    "# Train the model\n",
    "history2 = model2.fit(X_train, y_train, validation_data=(X_test, y_test), epochs=100, batch_size=32, callbacks=[early_stopping])\n",
    "\n",
    "# Evaluate the model\n",
    "val_loss, val_mae = model2.evaluate(X_test, y_test)\n",
    "print(f'Validation MAE: {val_mae}')"
   ]
  },
  {
   "cell_type": "code",
   "execution_count": 87,
   "id": "5f879362",
   "metadata": {},
   "outputs": [],
   "source": [
    "from sklearn.linear_model import LinearRegression"
   ]
  },
  {
   "cell_type": "code",
   "execution_count": 88,
   "id": "3b2c4ea4",
   "metadata": {},
   "outputs": [],
   "source": [
    "lr=LinearRegression()"
   ]
  },
  {
   "cell_type": "code",
   "execution_count": 89,
   "id": "bf485657",
   "metadata": {},
   "outputs": [
    {
     "data": {
      "text/html": [
       "<style>#sk-container-id-1 {\n",
       "  /* Definition of color scheme common for light and dark mode */\n",
       "  --sklearn-color-text: black;\n",
       "  --sklearn-color-line: gray;\n",
       "  /* Definition of color scheme for unfitted estimators */\n",
       "  --sklearn-color-unfitted-level-0: #fff5e6;\n",
       "  --sklearn-color-unfitted-level-1: #f6e4d2;\n",
       "  --sklearn-color-unfitted-level-2: #ffe0b3;\n",
       "  --sklearn-color-unfitted-level-3: chocolate;\n",
       "  /* Definition of color scheme for fitted estimators */\n",
       "  --sklearn-color-fitted-level-0: #f0f8ff;\n",
       "  --sklearn-color-fitted-level-1: #d4ebff;\n",
       "  --sklearn-color-fitted-level-2: #b3dbfd;\n",
       "  --sklearn-color-fitted-level-3: cornflowerblue;\n",
       "\n",
       "  /* Specific color for light theme */\n",
       "  --sklearn-color-text-on-default-background: var(--sg-text-color, var(--theme-code-foreground, var(--jp-content-font-color1, black)));\n",
       "  --sklearn-color-background: var(--sg-background-color, var(--theme-background, var(--jp-layout-color0, white)));\n",
       "  --sklearn-color-border-box: var(--sg-text-color, var(--theme-code-foreground, var(--jp-content-font-color1, black)));\n",
       "  --sklearn-color-icon: #696969;\n",
       "\n",
       "  @media (prefers-color-scheme: dark) {\n",
       "    /* Redefinition of color scheme for dark theme */\n",
       "    --sklearn-color-text-on-default-background: var(--sg-text-color, var(--theme-code-foreground, var(--jp-content-font-color1, white)));\n",
       "    --sklearn-color-background: var(--sg-background-color, var(--theme-background, var(--jp-layout-color0, #111)));\n",
       "    --sklearn-color-border-box: var(--sg-text-color, var(--theme-code-foreground, var(--jp-content-font-color1, white)));\n",
       "    --sklearn-color-icon: #878787;\n",
       "  }\n",
       "}\n",
       "\n",
       "#sk-container-id-1 {\n",
       "  color: var(--sklearn-color-text);\n",
       "}\n",
       "\n",
       "#sk-container-id-1 pre {\n",
       "  padding: 0;\n",
       "}\n",
       "\n",
       "#sk-container-id-1 input.sk-hidden--visually {\n",
       "  border: 0;\n",
       "  clip: rect(1px 1px 1px 1px);\n",
       "  clip: rect(1px, 1px, 1px, 1px);\n",
       "  height: 1px;\n",
       "  margin: -1px;\n",
       "  overflow: hidden;\n",
       "  padding: 0;\n",
       "  position: absolute;\n",
       "  width: 1px;\n",
       "}\n",
       "\n",
       "#sk-container-id-1 div.sk-dashed-wrapped {\n",
       "  border: 1px dashed var(--sklearn-color-line);\n",
       "  margin: 0 0.4em 0.5em 0.4em;\n",
       "  box-sizing: border-box;\n",
       "  padding-bottom: 0.4em;\n",
       "  background-color: var(--sklearn-color-background);\n",
       "}\n",
       "\n",
       "#sk-container-id-1 div.sk-container {\n",
       "  /* jupyter's `normalize.less` sets `[hidden] { display: none; }`\n",
       "     but bootstrap.min.css set `[hidden] { display: none !important; }`\n",
       "     so we also need the `!important` here to be able to override the\n",
       "     default hidden behavior on the sphinx rendered scikit-learn.org.\n",
       "     See: https://github.com/scikit-learn/scikit-learn/issues/21755 */\n",
       "  display: inline-block !important;\n",
       "  position: relative;\n",
       "}\n",
       "\n",
       "#sk-container-id-1 div.sk-text-repr-fallback {\n",
       "  display: none;\n",
       "}\n",
       "\n",
       "div.sk-parallel-item,\n",
       "div.sk-serial,\n",
       "div.sk-item {\n",
       "  /* draw centered vertical line to link estimators */\n",
       "  background-image: linear-gradient(var(--sklearn-color-text-on-default-background), var(--sklearn-color-text-on-default-background));\n",
       "  background-size: 2px 100%;\n",
       "  background-repeat: no-repeat;\n",
       "  background-position: center center;\n",
       "}\n",
       "\n",
       "/* Parallel-specific style estimator block */\n",
       "\n",
       "#sk-container-id-1 div.sk-parallel-item::after {\n",
       "  content: \"\";\n",
       "  width: 100%;\n",
       "  border-bottom: 2px solid var(--sklearn-color-text-on-default-background);\n",
       "  flex-grow: 1;\n",
       "}\n",
       "\n",
       "#sk-container-id-1 div.sk-parallel {\n",
       "  display: flex;\n",
       "  align-items: stretch;\n",
       "  justify-content: center;\n",
       "  background-color: var(--sklearn-color-background);\n",
       "  position: relative;\n",
       "}\n",
       "\n",
       "#sk-container-id-1 div.sk-parallel-item {\n",
       "  display: flex;\n",
       "  flex-direction: column;\n",
       "}\n",
       "\n",
       "#sk-container-id-1 div.sk-parallel-item:first-child::after {\n",
       "  align-self: flex-end;\n",
       "  width: 50%;\n",
       "}\n",
       "\n",
       "#sk-container-id-1 div.sk-parallel-item:last-child::after {\n",
       "  align-self: flex-start;\n",
       "  width: 50%;\n",
       "}\n",
       "\n",
       "#sk-container-id-1 div.sk-parallel-item:only-child::after {\n",
       "  width: 0;\n",
       "}\n",
       "\n",
       "/* Serial-specific style estimator block */\n",
       "\n",
       "#sk-container-id-1 div.sk-serial {\n",
       "  display: flex;\n",
       "  flex-direction: column;\n",
       "  align-items: center;\n",
       "  background-color: var(--sklearn-color-background);\n",
       "  padding-right: 1em;\n",
       "  padding-left: 1em;\n",
       "}\n",
       "\n",
       "\n",
       "/* Toggleable style: style used for estimator/Pipeline/ColumnTransformer box that is\n",
       "clickable and can be expanded/collapsed.\n",
       "- Pipeline and ColumnTransformer use this feature and define the default style\n",
       "- Estimators will overwrite some part of the style using the `sk-estimator` class\n",
       "*/\n",
       "\n",
       "/* Pipeline and ColumnTransformer style (default) */\n",
       "\n",
       "#sk-container-id-1 div.sk-toggleable {\n",
       "  /* Default theme specific background. It is overwritten whether we have a\n",
       "  specific estimator or a Pipeline/ColumnTransformer */\n",
       "  background-color: var(--sklearn-color-background);\n",
       "}\n",
       "\n",
       "/* Toggleable label */\n",
       "#sk-container-id-1 label.sk-toggleable__label {\n",
       "  cursor: pointer;\n",
       "  display: block;\n",
       "  width: 100%;\n",
       "  margin-bottom: 0;\n",
       "  padding: 0.5em;\n",
       "  box-sizing: border-box;\n",
       "  text-align: center;\n",
       "}\n",
       "\n",
       "#sk-container-id-1 label.sk-toggleable__label-arrow:before {\n",
       "  /* Arrow on the left of the label */\n",
       "  content: \"▸\";\n",
       "  float: left;\n",
       "  margin-right: 0.25em;\n",
       "  color: var(--sklearn-color-icon);\n",
       "}\n",
       "\n",
       "#sk-container-id-1 label.sk-toggleable__label-arrow:hover:before {\n",
       "  color: var(--sklearn-color-text);\n",
       "}\n",
       "\n",
       "/* Toggleable content - dropdown */\n",
       "\n",
       "#sk-container-id-1 div.sk-toggleable__content {\n",
       "  max-height: 0;\n",
       "  max-width: 0;\n",
       "  overflow: hidden;\n",
       "  text-align: left;\n",
       "  /* unfitted */\n",
       "  background-color: var(--sklearn-color-unfitted-level-0);\n",
       "}\n",
       "\n",
       "#sk-container-id-1 div.sk-toggleable__content.fitted {\n",
       "  /* fitted */\n",
       "  background-color: var(--sklearn-color-fitted-level-0);\n",
       "}\n",
       "\n",
       "#sk-container-id-1 div.sk-toggleable__content pre {\n",
       "  margin: 0.2em;\n",
       "  border-radius: 0.25em;\n",
       "  color: var(--sklearn-color-text);\n",
       "  /* unfitted */\n",
       "  background-color: var(--sklearn-color-unfitted-level-0);\n",
       "}\n",
       "\n",
       "#sk-container-id-1 div.sk-toggleable__content.fitted pre {\n",
       "  /* unfitted */\n",
       "  background-color: var(--sklearn-color-fitted-level-0);\n",
       "}\n",
       "\n",
       "#sk-container-id-1 input.sk-toggleable__control:checked~div.sk-toggleable__content {\n",
       "  /* Expand drop-down */\n",
       "  max-height: 200px;\n",
       "  max-width: 100%;\n",
       "  overflow: auto;\n",
       "}\n",
       "\n",
       "#sk-container-id-1 input.sk-toggleable__control:checked~label.sk-toggleable__label-arrow:before {\n",
       "  content: \"▾\";\n",
       "}\n",
       "\n",
       "/* Pipeline/ColumnTransformer-specific style */\n",
       "\n",
       "#sk-container-id-1 div.sk-label input.sk-toggleable__control:checked~label.sk-toggleable__label {\n",
       "  color: var(--sklearn-color-text);\n",
       "  background-color: var(--sklearn-color-unfitted-level-2);\n",
       "}\n",
       "\n",
       "#sk-container-id-1 div.sk-label.fitted input.sk-toggleable__control:checked~label.sk-toggleable__label {\n",
       "  background-color: var(--sklearn-color-fitted-level-2);\n",
       "}\n",
       "\n",
       "/* Estimator-specific style */\n",
       "\n",
       "/* Colorize estimator box */\n",
       "#sk-container-id-1 div.sk-estimator input.sk-toggleable__control:checked~label.sk-toggleable__label {\n",
       "  /* unfitted */\n",
       "  background-color: var(--sklearn-color-unfitted-level-2);\n",
       "}\n",
       "\n",
       "#sk-container-id-1 div.sk-estimator.fitted input.sk-toggleable__control:checked~label.sk-toggleable__label {\n",
       "  /* fitted */\n",
       "  background-color: var(--sklearn-color-fitted-level-2);\n",
       "}\n",
       "\n",
       "#sk-container-id-1 div.sk-label label.sk-toggleable__label,\n",
       "#sk-container-id-1 div.sk-label label {\n",
       "  /* The background is the default theme color */\n",
       "  color: var(--sklearn-color-text-on-default-background);\n",
       "}\n",
       "\n",
       "/* On hover, darken the color of the background */\n",
       "#sk-container-id-1 div.sk-label:hover label.sk-toggleable__label {\n",
       "  color: var(--sklearn-color-text);\n",
       "  background-color: var(--sklearn-color-unfitted-level-2);\n",
       "}\n",
       "\n",
       "/* Label box, darken color on hover, fitted */\n",
       "#sk-container-id-1 div.sk-label.fitted:hover label.sk-toggleable__label.fitted {\n",
       "  color: var(--sklearn-color-text);\n",
       "  background-color: var(--sklearn-color-fitted-level-2);\n",
       "}\n",
       "\n",
       "/* Estimator label */\n",
       "\n",
       "#sk-container-id-1 div.sk-label label {\n",
       "  font-family: monospace;\n",
       "  font-weight: bold;\n",
       "  display: inline-block;\n",
       "  line-height: 1.2em;\n",
       "}\n",
       "\n",
       "#sk-container-id-1 div.sk-label-container {\n",
       "  text-align: center;\n",
       "}\n",
       "\n",
       "/* Estimator-specific */\n",
       "#sk-container-id-1 div.sk-estimator {\n",
       "  font-family: monospace;\n",
       "  border: 1px dotted var(--sklearn-color-border-box);\n",
       "  border-radius: 0.25em;\n",
       "  box-sizing: border-box;\n",
       "  margin-bottom: 0.5em;\n",
       "  /* unfitted */\n",
       "  background-color: var(--sklearn-color-unfitted-level-0);\n",
       "}\n",
       "\n",
       "#sk-container-id-1 div.sk-estimator.fitted {\n",
       "  /* fitted */\n",
       "  background-color: var(--sklearn-color-fitted-level-0);\n",
       "}\n",
       "\n",
       "/* on hover */\n",
       "#sk-container-id-1 div.sk-estimator:hover {\n",
       "  /* unfitted */\n",
       "  background-color: var(--sklearn-color-unfitted-level-2);\n",
       "}\n",
       "\n",
       "#sk-container-id-1 div.sk-estimator.fitted:hover {\n",
       "  /* fitted */\n",
       "  background-color: var(--sklearn-color-fitted-level-2);\n",
       "}\n",
       "\n",
       "/* Specification for estimator info (e.g. \"i\" and \"?\") */\n",
       "\n",
       "/* Common style for \"i\" and \"?\" */\n",
       "\n",
       ".sk-estimator-doc-link,\n",
       "a:link.sk-estimator-doc-link,\n",
       "a:visited.sk-estimator-doc-link {\n",
       "  float: right;\n",
       "  font-size: smaller;\n",
       "  line-height: 1em;\n",
       "  font-family: monospace;\n",
       "  background-color: var(--sklearn-color-background);\n",
       "  border-radius: 1em;\n",
       "  height: 1em;\n",
       "  width: 1em;\n",
       "  text-decoration: none !important;\n",
       "  margin-left: 1ex;\n",
       "  /* unfitted */\n",
       "  border: var(--sklearn-color-unfitted-level-1) 1pt solid;\n",
       "  color: var(--sklearn-color-unfitted-level-1);\n",
       "}\n",
       "\n",
       ".sk-estimator-doc-link.fitted,\n",
       "a:link.sk-estimator-doc-link.fitted,\n",
       "a:visited.sk-estimator-doc-link.fitted {\n",
       "  /* fitted */\n",
       "  border: var(--sklearn-color-fitted-level-1) 1pt solid;\n",
       "  color: var(--sklearn-color-fitted-level-1);\n",
       "}\n",
       "\n",
       "/* On hover */\n",
       "div.sk-estimator:hover .sk-estimator-doc-link:hover,\n",
       ".sk-estimator-doc-link:hover,\n",
       "div.sk-label-container:hover .sk-estimator-doc-link:hover,\n",
       ".sk-estimator-doc-link:hover {\n",
       "  /* unfitted */\n",
       "  background-color: var(--sklearn-color-unfitted-level-3);\n",
       "  color: var(--sklearn-color-background);\n",
       "  text-decoration: none;\n",
       "}\n",
       "\n",
       "div.sk-estimator.fitted:hover .sk-estimator-doc-link.fitted:hover,\n",
       ".sk-estimator-doc-link.fitted:hover,\n",
       "div.sk-label-container:hover .sk-estimator-doc-link.fitted:hover,\n",
       ".sk-estimator-doc-link.fitted:hover {\n",
       "  /* fitted */\n",
       "  background-color: var(--sklearn-color-fitted-level-3);\n",
       "  color: var(--sklearn-color-background);\n",
       "  text-decoration: none;\n",
       "}\n",
       "\n",
       "/* Span, style for the box shown on hovering the info icon */\n",
       ".sk-estimator-doc-link span {\n",
       "  display: none;\n",
       "  z-index: 9999;\n",
       "  position: relative;\n",
       "  font-weight: normal;\n",
       "  right: .2ex;\n",
       "  padding: .5ex;\n",
       "  margin: .5ex;\n",
       "  width: min-content;\n",
       "  min-width: 20ex;\n",
       "  max-width: 50ex;\n",
       "  color: var(--sklearn-color-text);\n",
       "  box-shadow: 2pt 2pt 4pt #999;\n",
       "  /* unfitted */\n",
       "  background: var(--sklearn-color-unfitted-level-0);\n",
       "  border: .5pt solid var(--sklearn-color-unfitted-level-3);\n",
       "}\n",
       "\n",
       ".sk-estimator-doc-link.fitted span {\n",
       "  /* fitted */\n",
       "  background: var(--sklearn-color-fitted-level-0);\n",
       "  border: var(--sklearn-color-fitted-level-3);\n",
       "}\n",
       "\n",
       ".sk-estimator-doc-link:hover span {\n",
       "  display: block;\n",
       "}\n",
       "\n",
       "/* \"?\"-specific style due to the `<a>` HTML tag */\n",
       "\n",
       "#sk-container-id-1 a.estimator_doc_link {\n",
       "  float: right;\n",
       "  font-size: 1rem;\n",
       "  line-height: 1em;\n",
       "  font-family: monospace;\n",
       "  background-color: var(--sklearn-color-background);\n",
       "  border-radius: 1rem;\n",
       "  height: 1rem;\n",
       "  width: 1rem;\n",
       "  text-decoration: none;\n",
       "  /* unfitted */\n",
       "  color: var(--sklearn-color-unfitted-level-1);\n",
       "  border: var(--sklearn-color-unfitted-level-1) 1pt solid;\n",
       "}\n",
       "\n",
       "#sk-container-id-1 a.estimator_doc_link.fitted {\n",
       "  /* fitted */\n",
       "  border: var(--sklearn-color-fitted-level-1) 1pt solid;\n",
       "  color: var(--sklearn-color-fitted-level-1);\n",
       "}\n",
       "\n",
       "/* On hover */\n",
       "#sk-container-id-1 a.estimator_doc_link:hover {\n",
       "  /* unfitted */\n",
       "  background-color: var(--sklearn-color-unfitted-level-3);\n",
       "  color: var(--sklearn-color-background);\n",
       "  text-decoration: none;\n",
       "}\n",
       "\n",
       "#sk-container-id-1 a.estimator_doc_link.fitted:hover {\n",
       "  /* fitted */\n",
       "  background-color: var(--sklearn-color-fitted-level-3);\n",
       "}\n",
       "</style><div id=\"sk-container-id-1\" class=\"sk-top-container\"><div class=\"sk-text-repr-fallback\"><pre>LinearRegression()</pre><b>In a Jupyter environment, please rerun this cell to show the HTML representation or trust the notebook. <br />On GitHub, the HTML representation is unable to render, please try loading this page with nbviewer.org.</b></div><div class=\"sk-container\" hidden><div class=\"sk-item\"><div class=\"sk-estimator fitted sk-toggleable\"><input class=\"sk-toggleable__control sk-hidden--visually\" id=\"sk-estimator-id-1\" type=\"checkbox\" checked><label for=\"sk-estimator-id-1\" class=\"sk-toggleable__label fitted sk-toggleable__label-arrow fitted\">&nbsp;&nbsp;LinearRegression<a class=\"sk-estimator-doc-link fitted\" rel=\"noreferrer\" target=\"_blank\" href=\"https://scikit-learn.org/1.4/modules/generated/sklearn.linear_model.LinearRegression.html\">?<span>Documentation for LinearRegression</span></a><span class=\"sk-estimator-doc-link fitted\">i<span>Fitted</span></span></label><div class=\"sk-toggleable__content fitted\"><pre>LinearRegression()</pre></div> </div></div></div></div>"
      ],
      "text/plain": [
       "LinearRegression()"
      ]
     },
     "execution_count": 89,
     "metadata": {},
     "output_type": "execute_result"
    }
   ],
   "source": [
    "lr.fit(X_train,y_train)"
   ]
  },
  {
   "cell_type": "code",
   "execution_count": 90,
   "id": "5e7c4e43",
   "metadata": {},
   "outputs": [],
   "source": [
    "from sklearn.metrics import mean_absolute_error,mean_squared_error"
   ]
  },
  {
   "cell_type": "code",
   "execution_count": 91,
   "id": "c8baa769",
   "metadata": {},
   "outputs": [
    {
     "name": "stdout",
     "output_type": "stream",
     "text": [
      "Mean Squared Error (MSE): 511.81621641722427\n",
      "Mean Absolute Error (MAE): 19.10566308546448\n"
     ]
    }
   ],
   "source": [
    "# Fit the model\n",
    "lr.fit(X_train, y_train)\n",
    "\n",
    "# Make predictions\n",
    "y_pred = lr.predict(X_test)\n",
    "\n",
    "# Calculate metrics\n",
    "mse = mean_squared_error(y_test, y_pred)\n",
    "mae = mean_absolute_error(y_test, y_pred)\n",
    "\n",
    "print(f\"Mean Squared Error (MSE): {mse}\")\n",
    "print(f\"Mean Absolute Error (MAE): {mae}\")"
   ]
  },
  {
   "cell_type": "code",
   "execution_count": null,
   "id": "526fd13a",
   "metadata": {},
   "outputs": [],
   "source": []
  }
 ],
 "metadata": {
  "kernelspec": {
   "display_name": "Python 3 (ipykernel)",
   "language": "python",
   "name": "python3"
  },
  "language_info": {
   "codemirror_mode": {
    "name": "ipython",
    "version": 3
   },
   "file_extension": ".py",
   "mimetype": "text/x-python",
   "name": "python",
   "nbconvert_exporter": "python",
   "pygments_lexer": "ipython3",
   "version": "3.11.5"
  }
 },
 "nbformat": 4,
 "nbformat_minor": 5
}
